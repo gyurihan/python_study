{
 "cells": [
  {
   "cell_type": "markdown",
   "metadata": {},
   "source": [
    "1. pandas를 p1이라는 별칭으로 불러오고\n",
    "numpy를 n1이라는 별칭으로 불러오세요"
   ]
  },
  {
   "cell_type": "code",
   "execution_count": 3,
   "metadata": {},
   "outputs": [],
   "source": [
    "#Q1\n",
    "\n",
    "\n",
    "\n"
   ]
  },
  {
   "cell_type": "markdown",
   "metadata": {},
   "source": [
    "2. x라는 변수에 5를 저장하고 y라는 변수에 3.5를 저장하세요\n",
    "\n",
    "    그리고 그 둘을 더해서 z라는 변수를 만든 이후\n",
    "\n",
    "    z의 값을 print함수로 출력하세요"
   ]
  },
  {
   "cell_type": "code",
   "execution_count": null,
   "metadata": {},
   "outputs": [],
   "source": [
    "#Q2\n",
    "\n",
    "x = \n",
    "\n",
    "y = \n",
    "\n",
    "print(z)\n",
    "#8.5가 출력되면 정답"
   ]
  },
  {
   "cell_type": "markdown",
   "metadata": {},
   "source": [
    "3. a와 b를 입력받으면 a와 b를 곱한 값을 return해주는 함수를 만드세요.\n",
    "    함수의 이름은 mult_numbers로 만드세요"
   ]
  },
  {
   "cell_type": "code",
   "execution_count": null,
   "metadata": {},
   "outputs": [],
   "source": [
    "def mult_numbers(a, b):\n",
    "    #여기에 만들기\n"
   ]
  },
  {
   "cell_type": "code",
   "execution_count": null,
   "metadata": {},
   "outputs": [],
   "source": [
    "result = mult_numbers(2,3)\n",
    "print(result) #이 셀을 실행시켰을 때 6이 나오면 정답"
   ]
  },
  {
   "cell_type": "markdown",
   "metadata": {},
   "source": [
    "4. 주어진 리스트는 [0,2,4,5,6,7] 입니다.\n",
    "    \n",
    "    2와 4 사이에 3을 추가하고\n",
    "    \n",
    "    리스트의 첫번째 요소인 0을 1로 바꾸세요 "
   ]
  },
  {
   "cell_type": "code",
   "execution_count": 8,
   "metadata": {},
   "outputs": [],
   "source": [
    "given_list = [0,2,4,5,6,7]"
   ]
  },
  {
   "cell_type": "code",
   "execution_count": 10,
   "metadata": {},
   "outputs": [],
   "source": [
    "#2와 4사이에 3을 추가하기 \n",
    "\n",
    "print(given_list) #결과가 [0, 2, 3, 4, 5, 6, 7]로 나오면 정답"
   ]
  },
  {
   "cell_type": "code",
   "execution_count": null,
   "metadata": {},
   "outputs": [],
   "source": [
    "#첫번째 요소인 0을 1로 바꾸기\n",
    "\n",
    "print(given_list) #결과가 [1,2,3,4,5,6,7]로 나오면 정답"
   ]
  },
  {
   "cell_type": "markdown",
   "metadata": {},
   "source": [
    "5. 주어진 tup는 1,2,4의 값을 가진 tuple입니다.\n",
    "\n",
    "이것을 lst라는 이름을 가진 변수에 list의 형태로 복사하여 저장하고\n",
    "\n",
    "마지막 요소인 4를 3으로 바꾸세요\n"
   ]
  },
  {
   "cell_type": "code",
   "execution_count": 13,
   "metadata": {},
   "outputs": [],
   "source": [
    "tup = 1,2,4"
   ]
  },
  {
   "cell_type": "code",
   "execution_count": null,
   "metadata": {},
   "outputs": [],
   "source": [
    "\n",
    "\n",
    "\n",
    "\n",
    "print(lst) #실행했을 때 [1,2,3]이 나오면 정답"
   ]
  },
  {
   "cell_type": "markdown",
   "metadata": {},
   "source": [
    "6.  빈 리스트를 생성하고\n",
    "\n",
    "    for문을 통해 빈 리스트에 값을 append하려고 합니다.\n",
    "\n",
    "    for문을 한번 돌때마다 1씩 증가하는 i를 리스트에 계속 append하여\n",
    "\n",
    "    최종적으로 [0,1,2,3,4,5,6,7,8,9]의 리스트를 만드세요"
   ]
  },
  {
   "cell_type": "code",
   "execution_count": null,
   "metadata": {},
   "outputs": [],
   "source": [
    "list_Q6 = \n",
    "\n",
    "for        :\n",
    "    \n",
    "\n",
    "print(list_Q6) #[0,1,2,3,4,5,6,7,8,9]로 결과가 나오면 정답"
   ]
  },
  {
   "cell_type": "markdown",
   "metadata": {},
   "source": [
    "7.  방금 전에 만든 list_Q6은 0~9까지의 값이 담겨있는 리스트 입니다.\n",
    "\n",
    "    처음 3개의 요소, 마지막 4개의 요소를 indexing을 이용하여 출력하세요"
   ]
  },
  {
   "cell_type": "code",
   "execution_count": null,
   "metadata": {},
   "outputs": [],
   "source": []
  },
  {
   "cell_type": "markdown",
   "metadata": {},
   "source": [
    "8.  빈 딕셔너리를 만든 이후에 \n",
    "\n",
    "    주어진 리스트에 들어있는 item을 key값으로, \n",
    "    \n",
    "    그 item이 등장한 횟수를 value로 가지는 딕셔너리를 만드세요\n",
    "\n",
    "    예를들어 [apple, banana, apple, apple, banana]라는 리스트가 있다면\n",
    "\n",
    "    count_dict의 값은 {'apple' : 3, 'banana' : 2}가 되어야 합니다.\n"
   ]
  },
  {
   "cell_type": "code",
   "execution_count": 20,
   "metadata": {},
   "outputs": [],
   "source": [
    "given_list_Q8 = ['a', 'a', 'a' ,'b', 'c', 'b', 'a', 'd', 'c', 'b', 'c', 'a']"
   ]
  },
  {
   "cell_type": "code",
   "execution_count": 27,
   "metadata": {},
   "outputs": [
    {
     "name": "stdout",
     "output_type": "stream",
     "text": [
      "{'a': 5, 'b': 3, 'c': 3, 'd': 1}\n"
     ]
    }
   ],
   "source": [
    "#이번 퀴즈의 최고난이도 문제인듯! 충분히 생각해봐도 모르겠으면 질문 찬스 드림!\n",
    "\n",
    "count_dict = {}\n",
    "\n",
    "for item in given_list_Q8:\n",
    "    if item in count_dict.keys():\n",
    "        \n",
    "\n",
    "    else:\n",
    "\n",
    "        \n",
    "\n",
    "print(count_dict)"
   ]
  },
  {
   "cell_type": "markdown",
   "metadata": {},
   "source": [
    "9.  2~5단까지의 구구단을 출력하는 코드를 짜세요\n",
    "\n",
    "    hint 두개의 for문을 중첩해서 코드를 짜면 쉽습니다."
   ]
  },
  {
   "cell_type": "code",
   "execution_count": null,
   "metadata": {},
   "outputs": [],
   "source": []
  },
  {
   "cell_type": "code",
   "execution_count": 31,
   "metadata": {},
   "outputs": [
    {
     "name": "stdout",
     "output_type": "stream",
     "text": [
      "2 * 1 = 2\n",
      "2 * 2 = 4\n",
      "2 * 3 = 6\n",
      "2 * 4 = 8\n",
      "2 * 5 = 10\n",
      "2 * 6 = 12\n",
      "2 * 7 = 14\n",
      "2 * 8 = 16\n",
      "2 * 9 = 18\n",
      "3 * 1 = 3\n",
      "3 * 2 = 6\n",
      "3 * 3 = 9\n",
      "3 * 4 = 12\n",
      "3 * 5 = 15\n",
      "3 * 6 = 18\n",
      "3 * 7 = 21\n",
      "3 * 8 = 24\n",
      "3 * 9 = 27\n",
      "4 * 1 = 4\n",
      "4 * 2 = 8\n",
      "4 * 3 = 12\n",
      "4 * 4 = 16\n",
      "4 * 5 = 20\n",
      "4 * 6 = 24\n",
      "4 * 7 = 28\n",
      "4 * 8 = 32\n",
      "4 * 9 = 36\n",
      "5 * 1 = 5\n",
      "5 * 2 = 10\n",
      "5 * 3 = 15\n",
      "5 * 4 = 20\n",
      "5 * 5 = 25\n",
      "5 * 6 = 30\n",
      "5 * 7 = 35\n",
      "5 * 8 = 40\n",
      "5 * 9 = 45\n"
     ]
    }
   ],
   "source": [
    "#아래와 같은 출력이 나오면 정답"
   ]
  }
 ],
 "metadata": {
  "kernelspec": {
   "display_name": "Python 3.8.12 ('svmglee')",
   "language": "python",
   "name": "python3"
  },
  "language_info": {
   "codemirror_mode": {
    "name": "ipython",
    "version": 3
   },
   "file_extension": ".py",
   "mimetype": "text/x-python",
   "name": "python",
   "nbconvert_exporter": "python",
   "pygments_lexer": "ipython3",
   "version": "3.8.12"
  },
  "orig_nbformat": 4,
  "vscode": {
   "interpreter": {
    "hash": "c6f34507fa43ba317958b721fa8398d2051b96ef3f3b32ff98429c26ce06f8cf"
   }
  }
 },
 "nbformat": 4,
 "nbformat_minor": 2
}
