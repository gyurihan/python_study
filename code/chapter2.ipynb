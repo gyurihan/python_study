{
 "cells": [
  {
   "cell_type": "code",
   "execution_count": 3,
   "id": "1d4c2f85-5103-4825-a679-3dc6efc3b6e6",
   "metadata": {},
   "outputs": [],
   "source": [
    ">>> a=5"
   ]
  },
  {
   "cell_type": "code",
   "execution_count": 6,
   "id": "ae472002-4584-4c35-9585-3394da194064",
   "metadata": {},
   "outputs": [
    {
     "name": "stdout",
     "output_type": "stream",
     "text": [
      "5\n"
     ]
    }
   ],
   "source": [
    "print(a)"
   ]
  },
  {
   "cell_type": "code",
   "execution_count": 7,
   "id": "39d90383-c42c-4cc5-9f02-d2e8e3fdf254",
   "metadata": {},
   "outputs": [
    {
     "name": "stdout",
     "output_type": "stream",
     "text": [
      "Hello world\n"
     ]
    }
   ],
   "source": [
    "print('Hello world')"
   ]
  },
  {
   "cell_type": "code",
   "execution_count": 8,
   "id": "8a0ca87e-36b6-43ef-b204-88784d8ea8aa",
   "metadata": {},
   "outputs": [],
   "source": [
    "an_apple = 27"
   ]
  },
  {
   "cell_type": "code",
   "execution_count": 9,
   "id": "9a5a5172-5d06-4347-8cbf-5f2c62264b9a",
   "metadata": {},
   "outputs": [],
   "source": [
    "an_example = 42"
   ]
  },
  {
   "cell_type": "code",
   "execution_count": 10,
   "id": "25bdc1d2-cf63-4c64-8024-7bade9b311f1",
   "metadata": {},
   "outputs": [
    {
     "data": {
      "text/plain": [
       "42"
      ]
     },
     "execution_count": 10,
     "metadata": {},
     "output_type": "execute_result"
    }
   ],
   "source": [
    "an_apple and an_example"
   ]
  },
  {
   "cell_type": "code",
   "execution_count": 2,
   "id": "5147972a-66d0-4078-a7e0-cb878ae05bc4",
   "metadata": {},
   "outputs": [],
   "source": [
    "#tap을 통한 자동완성 기능"
   ]
  },
  {
   "cell_type": "code",
   "execution_count": 12,
   "id": "3e3aa097-544f-4f93-8ff3-fa284853a349",
   "metadata": {},
   "outputs": [],
   "source": [
    "b = [1, 2, 3]"
   ]
  },
  {
   "cell_type": "code",
   "execution_count": 14,
   "id": "9e32c0e7-f944-4cef-95ae-15871917dd43",
   "metadata": {},
   "outputs": [],
   "source": [
    "import datetime"
   ]
  },
  {
   "cell_type": "code",
   "execution_count": 16,
   "id": "15cbafe7-9c4f-4547-8446-187fdb6675a6",
   "metadata": {},
   "outputs": [
    {
     "ename": "NameError",
     "evalue": "name 'datasets' is not defined",
     "output_type": "error",
     "traceback": [
      "\u001b[1;31m---------------------------------------------------------------------------\u001b[0m",
      "\u001b[1;31mNameError\u001b[0m                                 Traceback (most recent call last)",
      "Input \u001b[1;32mIn [16]\u001b[0m, in \u001b[0;36m<cell line: 1>\u001b[1;34m()\u001b[0m\n\u001b[1;32m----> 1\u001b[0m \u001b[43mdatasets\u001b[49m\u001b[38;5;241m/\u001b[39mmovielens\u001b[38;5;241m/\u001b[39mmovie\u001b[38;5;241m.\u001b[39mdat\n",
      "\u001b[1;31mNameError\u001b[0m: name 'datasets' is not defined"
     ]
    }
   ],
   "source": [
    "datasets/movielens/movie.dat"
   ]
  },
  {
   "cell_type": "code",
   "execution_count": 26,
   "id": "a3769516-4ad6-4444-ad42-ac94a3048d1a",
   "metadata": {},
   "outputs": [],
   "source": [
    "# 자기관찰(introspection) : 변수 이름 앞 또는 뒤에 ? 기호를 붙이면 그 객체에 대한 일반 정보를 출력한다"
   ]
  },
  {
   "cell_type": "code",
   "execution_count": 18,
   "id": "daf14432-de0b-4b0d-b9e4-fca48fcececb",
   "metadata": {},
   "outputs": [],
   "source": [
    "b = [1, 2, 3]"
   ]
  },
  {
   "cell_type": "code",
   "execution_count": 19,
   "id": "49df6d4a-002b-4ab3-a717-c418d6e794d4",
   "metadata": {},
   "outputs": [
    {
     "data": {
      "text/plain": [
       "\u001b[1;31mType:\u001b[0m        list\n",
       "\u001b[1;31mString form:\u001b[0m [1, 2, 3]\n",
       "\u001b[1;31mLength:\u001b[0m      3\n",
       "\u001b[1;31mDocstring:\u001b[0m  \n",
       "Built-in mutable sequence.\n",
       "\n",
       "If no argument is given, the constructor creates a new empty list.\n",
       "The argument must be an iterable if specified.\n"
      ]
     },
     "metadata": {},
     "output_type": "display_data"
    }
   ],
   "source": [
    "b?"
   ]
  },
  {
   "cell_type": "code",
   "execution_count": 25,
   "id": "a43dc139-3f48-42c7-9078-e07a3a358f60",
   "metadata": {},
   "outputs": [],
   "source": [
    "# iterable 은 for loop 나 sequence 가 필요한 zip(), map() 등에 사용될 수 있다. iterator : 데이터의 흐름 (stream)을 의미. 흐름 (stream) 내에서 바로 다음에 처리해야 할 데이터를 기억하고 있음. "
   ]
  },
  {
   "cell_type": "code",
   "execution_count": 21,
   "id": "f06eafd5-f301-49ff-8473-25c5d752659d",
   "metadata": {},
   "outputs": [
    {
     "data": {
      "text/plain": [
       "\u001b[1;31mDocstring:\u001b[0m\n",
       "print(value, ..., sep=' ', end='\\n', file=sys.stdout, flush=False)\n",
       "\n",
       "Prints the values to a stream, or to sys.stdout by default.\n",
       "Optional keyword arguments:\n",
       "file:  a file-like object (stream); defaults to the current sys.stdout.\n",
       "sep:   string inserted between values, default a space.\n",
       "end:   string appended after the last value, default a newline.\n",
       "flush: whether to forcibly flush the stream.\n",
       "\u001b[1;31mType:\u001b[0m      builtin_function_or_method\n"
      ]
     },
     "metadata": {},
     "output_type": "display_data"
    }
   ],
   "source": [
    "print?"
   ]
  },
  {
   "cell_type": "code",
   "execution_count": 31,
   "id": "26dcb3a2-2cb3-4844-94ca-ab9367583e60",
   "metadata": {},
   "outputs": [],
   "source": [
    "def add_numbers(a, b) :\n",
    "    \"\"\"\n",
    "    Add two numbers together\n",
    "    \n",
    "    Returns\n",
    "    -------\n",
    "    the_sum : type of arguments\n",
    "    \"\"\"\n",
    "    return a + b"
   ]
  },
  {
   "cell_type": "code",
   "execution_count": 32,
   "id": "59121016-8af7-4d2f-9c9a-06803927138d",
   "metadata": {},
   "outputs": [
    {
     "data": {
      "text/plain": [
       "\u001b[1;31mSignature:\u001b[0m \u001b[0madd_numbers\u001b[0m\u001b[1;33m(\u001b[0m\u001b[0ma\u001b[0m\u001b[1;33m,\u001b[0m \u001b[0mb\u001b[0m\u001b[1;33m)\u001b[0m\u001b[1;33m\u001b[0m\u001b[1;33m\u001b[0m\u001b[0m\n",
       "\u001b[1;31mDocstring:\u001b[0m\n",
       "Add two numbers together\n",
       "\n",
       "Returns\n",
       "-------\n",
       "the_sum : type of arguments\n",
       "\u001b[1;31mFile:\u001b[0m      c:\\users\\gyurihan\\appdata\\local\\temp\\ipykernel_14724\\1825811206.py\n",
       "\u001b[1;31mType:\u001b[0m      function\n"
      ]
     },
     "metadata": {},
     "output_type": "display_data"
    }
   ],
   "source": [
    "add_numbers?"
   ]
  },
  {
   "cell_type": "code",
   "execution_count": 33,
   "id": "5763fde0-e8eb-476f-867a-6e5899cb45ee",
   "metadata": {},
   "outputs": [
    {
     "data": {
      "text/plain": [
       "\u001b[1;31mSignature:\u001b[0m \u001b[0madd_numbers\u001b[0m\u001b[1;33m(\u001b[0m\u001b[0ma\u001b[0m\u001b[1;33m,\u001b[0m \u001b[0mb\u001b[0m\u001b[1;33m)\u001b[0m\u001b[1;33m\u001b[0m\u001b[1;33m\u001b[0m\u001b[0m\n",
       "\u001b[1;31mSource:\u001b[0m   \n",
       "\u001b[1;32mdef\u001b[0m \u001b[0madd_numbers\u001b[0m\u001b[1;33m(\u001b[0m\u001b[0ma\u001b[0m\u001b[1;33m,\u001b[0m \u001b[0mb\u001b[0m\u001b[1;33m)\u001b[0m \u001b[1;33m:\u001b[0m\u001b[1;33m\n",
       "\u001b[0m    \u001b[1;34m\"\"\"\n",
       "    Add two numbers together\n",
       "    \n",
       "    Returns\n",
       "    -------\n",
       "    the_sum : type of arguments\n",
       "    \"\"\"\u001b[0m\u001b[1;33m\n",
       "\u001b[0m    \u001b[1;32mreturn\u001b[0m \u001b[0ma\u001b[0m \u001b[1;33m+\u001b[0m \u001b[0mb\u001b[0m\u001b[1;33m\u001b[0m\u001b[1;33m\u001b[0m\u001b[0m\n",
       "\u001b[1;31mFile:\u001b[0m      c:\\users\\gyurihan\\appdata\\local\\temp\\ipykernel_14724\\1825811206.py\n",
       "\u001b[1;31mType:\u001b[0m      function\n"
      ]
     },
     "metadata": {},
     "output_type": "display_data"
    }
   ],
   "source": [
    "add_numbers??"
   ]
  },
  {
   "cell_type": "code",
   "execution_count": 34,
   "id": "aeb29913-4ad7-49f8-b844-143f0fbd5b2c",
   "metadata": {},
   "outputs": [],
   "source": [
    "# 물음표 ?? 함수의 소스 코드를 보여준다"
   ]
  },
  {
   "cell_type": "code",
   "execution_count": 35,
   "id": "5a55c34c-acc8-4ae8-a788-4c3460185a66",
   "metadata": {},
   "outputs": [
    {
     "data": {
      "text/plain": []
     },
     "metadata": {},
     "output_type": "display_data"
    }
   ],
   "source": [
    "np.*load*?"
   ]
  },
  {
   "cell_type": "code",
   "execution_count": 36,
   "id": "ca852db5-23f8-4547-8eb1-d0a146d5aaa8",
   "metadata": {},
   "outputs": [],
   "source": [
    "# 와일드카드 * 기호와 함께 사용한 문자와 일치하는 모든 이름을 보여준다. "
   ]
  },
  {
   "cell_type": "code",
   "execution_count": 37,
   "id": "7cc5843e-aa77-4960-b675-fb20a60fc46c",
   "metadata": {},
   "outputs": [],
   "source": [
    "# 스크립트 파일을 코드 셀로 불러오는 %load 매직함수를 사용할 수 있다."
   ]
  },
  {
   "cell_type": "code",
   "execution_count": 38,
   "id": "57dc880c-6838-4aa2-991a-64a063843e47",
   "metadata": {},
   "outputs": [
    {
     "ename": "SyntaxError",
     "evalue": "invalid syntax (1794432756.py, line 3)",
     "output_type": "error",
     "traceback": [
      "\u001b[1;36m  Input \u001b[1;32mIn [38]\u001b[1;36m\u001b[0m\n\u001b[1;33m    def f(x, y, z)\u001b[0m\n\u001b[1;37m                  ^\u001b[0m\n\u001b[1;31mSyntaxError\u001b[0m\u001b[1;31m:\u001b[0m invalid syntax\n"
     ]
    }
   ],
   "source": [
    "%load ipython_script_test.py\n",
    "\n",
    "def f(x, y, z)\n",
    " retrun (x + y) / z\n",
    "    \n",
    "a = 5\n",
    "b = 6\n",
    "c = 7.5\n",
    "\n",
    "result = f(a, b, c)"
   ]
  },
  {
   "cell_type": "code",
   "execution_count": 39,
   "id": "404d5dbe-a55b-4806-9b06-e9aee2268da2",
   "metadata": {},
   "outputs": [],
   "source": [
    "# 실행중인 코드 중지하기 ctrl-c"
   ]
  },
  {
   "cell_type": "code",
   "execution_count": 41,
   "id": "590d2abd-d4a1-4920-af46-17427c1de2ff",
   "metadata": {},
   "outputs": [],
   "source": [
    "# 복붙 함수 %paste %cpaste"
   ]
  },
  {
   "cell_type": "code",
   "execution_count": 45,
   "id": "b88f3c98-0be4-40f0-be9d-2399d110ceef",
   "metadata": {},
   "outputs": [],
   "source": [
    "x = 5\n",
    "y = 7\n",
    "if x > 5:\n",
    "    x += 1\n",
    "\n",
    "    y = 8"
   ]
  },
  {
   "cell_type": "code",
   "execution_count": 52,
   "id": "80d03cb3-6837-43cb-9353-f056effdce96",
   "metadata": {},
   "outputs": [
    {
     "name": "stderr",
     "output_type": "stream",
     "text": [
      "UsageError: Line magic function `%paste` not found.\n"
     ]
    }
   ],
   "source": [
    "%paste\n",
    "x = 5\n",
    "y = 7\n",
    "if x > 5:\n",
    "    x += 1\n",
    "\n",
    "    y = 8"
   ]
  },
  {
   "cell_type": "code",
   "execution_count": 53,
   "id": "23c728da-7d56-40af-9244-2c1373bc0555",
   "metadata": {},
   "outputs": [
    {
     "name": "stderr",
     "output_type": "stream",
     "text": [
      "UsageError: Line magic function `%cpaste` not found.\n"
     ]
    }
   ],
   "source": [
    "%cpaste"
   ]
  },
  {
   "cell_type": "code",
   "execution_count": 54,
   "id": "7ce1f72e-c07c-474b-8386-e8cd0b0d7061",
   "metadata": {},
   "outputs": [],
   "source": [
    "#왜 복붙이 안될까?"
   ]
  },
  {
   "cell_type": "code",
   "execution_count": 56,
   "id": "3f06a000-1052-4a9b-885e-599d10ec9638",
   "metadata": {},
   "outputs": [],
   "source": [
    "%matplotlib inline"
   ]
  },
  {
   "cell_type": "code",
   "execution_count": 57,
   "id": "42c514a9-8228-4562-9225-632476a172fc",
   "metadata": {},
   "outputs": [],
   "source": [
    "# matplotlib 매직함수를 실행하지 않으면 노트북의 경우 그래프가 화면에 나타나지 않거나 셸의 경우 세션의 제어권을 뺏기게 되므로 중요하다."
   ]
  },
  {
   "cell_type": "code",
   "execution_count": 58,
   "id": "43b6dae8-0262-4cbf-b171-1fa670616fe6",
   "metadata": {},
   "outputs": [],
   "source": [
    "#~p.59 정리"
   ]
  },
  {
   "cell_type": "code",
   "execution_count": null,
   "id": "844c2b22-3003-4623-9dbc-3e18ecc46405",
   "metadata": {},
   "outputs": [],
   "source": []
  }
 ],
 "metadata": {
  "kernelspec": {
   "display_name": "Python 3 (ipykernel)",
   "language": "python",
   "name": "python3"
  },
  "language_info": {
   "codemirror_mode": {
    "name": "ipython",
    "version": 3
   },
   "file_extension": ".py",
   "mimetype": "text/x-python",
   "name": "python",
   "nbconvert_exporter": "python",
   "pygments_lexer": "ipython3",
   "version": "3.9.12"
  }
 },
 "nbformat": 4,
 "nbformat_minor": 5
}
