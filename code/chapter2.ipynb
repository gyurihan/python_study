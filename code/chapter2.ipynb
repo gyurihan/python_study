{
 "cells": [
  {
   "cell_type": "code",
   "execution_count": 9,
   "id": "8d4ad1ae-a859-4554-9ff6-7f42a84d3180",
   "metadata": {},
   "outputs": [],
   "source": [
    "import pandas as pd\n",
    "import numpy as np"
   ]
  },
  {
   "cell_type": "code",
   "execution_count": 3,
   "id": "1d4c2f85-5103-4825-a679-3dc6efc3b6e6",
   "metadata": {},
   "outputs": [],
   "source": [
    ">>> a=5"
   ]
  },
  {
   "cell_type": "code",
   "execution_count": 6,
   "id": "ae472002-4584-4c35-9585-3394da194064",
   "metadata": {},
   "outputs": [
    {
     "name": "stdout",
     "output_type": "stream",
     "text": [
      "5\n"
     ]
    }
   ],
   "source": [
    "print(a)"
   ]
  },
  {
   "cell_type": "code",
   "execution_count": 7,
   "id": "39d90383-c42c-4cc5-9f02-d2e8e3fdf254",
   "metadata": {},
   "outputs": [
    {
     "name": "stdout",
     "output_type": "stream",
     "text": [
      "Hello world\n"
     ]
    }
   ],
   "source": [
    "print('Hello world')"
   ]
  },
  {
   "cell_type": "code",
   "execution_count": 8,
   "id": "8a0ca87e-36b6-43ef-b204-88784d8ea8aa",
   "metadata": {},
   "outputs": [],
   "source": [
    "an_apple = 27"
   ]
  },
  {
   "cell_type": "code",
   "execution_count": 9,
   "id": "9a5a5172-5d06-4347-8cbf-5f2c62264b9a",
   "metadata": {},
   "outputs": [],
   "source": [
    "an_example = 42"
   ]
  },
  {
   "cell_type": "code",
   "execution_count": 10,
   "id": "25bdc1d2-cf63-4c64-8024-7bade9b311f1",
   "metadata": {},
   "outputs": [
    {
     "data": {
      "text/plain": [
       "42"
      ]
     },
     "execution_count": 10,
     "metadata": {},
     "output_type": "execute_result"
    }
   ],
   "source": [
    "an_apple and an_example"
   ]
  },
  {
   "cell_type": "code",
   "execution_count": 2,
   "id": "5147972a-66d0-4078-a7e0-cb878ae05bc4",
   "metadata": {},
   "outputs": [],
   "source": [
    "#tap을 통한 자동완성 기능"
   ]
  },
  {
   "cell_type": "code",
   "execution_count": 12,
   "id": "3e3aa097-544f-4f93-8ff3-fa284853a349",
   "metadata": {},
   "outputs": [],
   "source": [
    "b = [1, 2, 3]"
   ]
  },
  {
   "cell_type": "code",
   "execution_count": 14,
   "id": "9e32c0e7-f944-4cef-95ae-15871917dd43",
   "metadata": {},
   "outputs": [],
   "source": [
    "import datetime"
   ]
  },
  {
   "cell_type": "code",
   "execution_count": 26,
   "id": "a3769516-4ad6-4444-ad42-ac94a3048d1a",
   "metadata": {},
   "outputs": [],
   "source": [
    "# 자기관찰(introspection) : 변수 이름 앞 또는 뒤에 ? 기호를 붙이면 그 객체에 대한 일반 정보를 출력한다"
   ]
  },
  {
   "cell_type": "code",
   "execution_count": 18,
   "id": "daf14432-de0b-4b0d-b9e4-fca48fcececb",
   "metadata": {},
   "outputs": [],
   "source": [
    "b = [1, 2, 3]"
   ]
  },
  {
   "cell_type": "code",
   "execution_count": 19,
   "id": "49df6d4a-002b-4ab3-a717-c418d6e794d4",
   "metadata": {},
   "outputs": [
    {
     "data": {
      "text/plain": [
       "\u001b[1;31mType:\u001b[0m        list\n",
       "\u001b[1;31mString form:\u001b[0m [1, 2, 3]\n",
       "\u001b[1;31mLength:\u001b[0m      3\n",
       "\u001b[1;31mDocstring:\u001b[0m  \n",
       "Built-in mutable sequence.\n",
       "\n",
       "If no argument is given, the constructor creates a new empty list.\n",
       "The argument must be an iterable if specified.\n"
      ]
     },
     "metadata": {},
     "output_type": "display_data"
    }
   ],
   "source": [
    "b?"
   ]
  },
  {
   "cell_type": "code",
   "execution_count": 25,
   "id": "a43dc139-3f48-42c7-9078-e07a3a358f60",
   "metadata": {},
   "outputs": [],
   "source": [
    "# iterable 은 for loop 나 sequence 가 필요한 zip(), map() 등에 사용될 수 있다. iterator : 데이터의 흐름 (stream)을 의미. 흐름 (stream) 내에서 바로 다음에 처리해야 할 데이터를 기억하고 있음. "
   ]
  },
  {
   "cell_type": "code",
   "execution_count": 21,
   "id": "f06eafd5-f301-49ff-8473-25c5d752659d",
   "metadata": {},
   "outputs": [
    {
     "data": {
      "text/plain": [
       "\u001b[1;31mDocstring:\u001b[0m\n",
       "print(value, ..., sep=' ', end='\\n', file=sys.stdout, flush=False)\n",
       "\n",
       "Prints the values to a stream, or to sys.stdout by default.\n",
       "Optional keyword arguments:\n",
       "file:  a file-like object (stream); defaults to the current sys.stdout.\n",
       "sep:   string inserted between values, default a space.\n",
       "end:   string appended after the last value, default a newline.\n",
       "flush: whether to forcibly flush the stream.\n",
       "\u001b[1;31mType:\u001b[0m      builtin_function_or_method\n"
      ]
     },
     "metadata": {},
     "output_type": "display_data"
    }
   ],
   "source": [
    "print?"
   ]
  },
  {
   "cell_type": "code",
   "execution_count": 31,
   "id": "26dcb3a2-2cb3-4844-94ca-ab9367583e60",
   "metadata": {},
   "outputs": [],
   "source": [
    "def add_numbers(a, b) :\n",
    "    \"\"\"\n",
    "    Add two numbers together\n",
    "    \n",
    "    Returns\n",
    "    -------\n",
    "    the_sum : type of arguments\n",
    "    \"\"\"\n",
    "    return a + b"
   ]
  },
  {
   "cell_type": "code",
   "execution_count": 32,
   "id": "59121016-8af7-4d2f-9c9a-06803927138d",
   "metadata": {},
   "outputs": [
    {
     "data": {
      "text/plain": [
       "\u001b[1;31mSignature:\u001b[0m \u001b[0madd_numbers\u001b[0m\u001b[1;33m(\u001b[0m\u001b[0ma\u001b[0m\u001b[1;33m,\u001b[0m \u001b[0mb\u001b[0m\u001b[1;33m)\u001b[0m\u001b[1;33m\u001b[0m\u001b[1;33m\u001b[0m\u001b[0m\n",
       "\u001b[1;31mDocstring:\u001b[0m\n",
       "Add two numbers together\n",
       "\n",
       "Returns\n",
       "-------\n",
       "the_sum : type of arguments\n",
       "\u001b[1;31mFile:\u001b[0m      c:\\users\\gyurihan\\appdata\\local\\temp\\ipykernel_14724\\1825811206.py\n",
       "\u001b[1;31mType:\u001b[0m      function\n"
      ]
     },
     "metadata": {},
     "output_type": "display_data"
    }
   ],
   "source": [
    "add_numbers?"
   ]
  },
  {
   "cell_type": "code",
   "execution_count": 33,
   "id": "5763fde0-e8eb-476f-867a-6e5899cb45ee",
   "metadata": {},
   "outputs": [
    {
     "data": {
      "text/plain": [
       "\u001b[1;31mSignature:\u001b[0m \u001b[0madd_numbers\u001b[0m\u001b[1;33m(\u001b[0m\u001b[0ma\u001b[0m\u001b[1;33m,\u001b[0m \u001b[0mb\u001b[0m\u001b[1;33m)\u001b[0m\u001b[1;33m\u001b[0m\u001b[1;33m\u001b[0m\u001b[0m\n",
       "\u001b[1;31mSource:\u001b[0m   \n",
       "\u001b[1;32mdef\u001b[0m \u001b[0madd_numbers\u001b[0m\u001b[1;33m(\u001b[0m\u001b[0ma\u001b[0m\u001b[1;33m,\u001b[0m \u001b[0mb\u001b[0m\u001b[1;33m)\u001b[0m \u001b[1;33m:\u001b[0m\u001b[1;33m\n",
       "\u001b[0m    \u001b[1;34m\"\"\"\n",
       "    Add two numbers together\n",
       "    \n",
       "    Returns\n",
       "    -------\n",
       "    the_sum : type of arguments\n",
       "    \"\"\"\u001b[0m\u001b[1;33m\n",
       "\u001b[0m    \u001b[1;32mreturn\u001b[0m \u001b[0ma\u001b[0m \u001b[1;33m+\u001b[0m \u001b[0mb\u001b[0m\u001b[1;33m\u001b[0m\u001b[1;33m\u001b[0m\u001b[0m\n",
       "\u001b[1;31mFile:\u001b[0m      c:\\users\\gyurihan\\appdata\\local\\temp\\ipykernel_14724\\1825811206.py\n",
       "\u001b[1;31mType:\u001b[0m      function\n"
      ]
     },
     "metadata": {},
     "output_type": "display_data"
    }
   ],
   "source": [
    "add_numbers??"
   ]
  },
  {
   "cell_type": "code",
   "execution_count": 34,
   "id": "aeb29913-4ad7-49f8-b844-143f0fbd5b2c",
   "metadata": {},
   "outputs": [],
   "source": [
    "# 물음표 ?? 함수의 소스 코드를 보여준다"
   ]
  },
  {
   "cell_type": "code",
   "execution_count": 35,
   "id": "5a55c34c-acc8-4ae8-a788-4c3460185a66",
   "metadata": {},
   "outputs": [
    {
     "data": {
      "text/plain": []
     },
     "metadata": {},
     "output_type": "display_data"
    }
   ],
   "source": [
    "np.*load*?"
   ]
  },
  {
   "cell_type": "code",
   "execution_count": 36,
   "id": "ca852db5-23f8-4547-8eb1-d0a146d5aaa8",
   "metadata": {},
   "outputs": [],
   "source": [
    "# 와일드카드 * 기호와 함께 사용한 문자와 일치하는 모든 이름을 보여준다. "
   ]
  },
  {
   "cell_type": "code",
   "execution_count": 37,
   "id": "7cc5843e-aa77-4960-b675-fb20a60fc46c",
   "metadata": {},
   "outputs": [],
   "source": [
    "# 스크립트 파일을 코드 셀로 불러오는 %load 매직함수를 사용할 수 있다."
   ]
  },
  {
   "cell_type": "code",
   "execution_count": 2,
   "id": "57dc880c-6838-4aa2-991a-64a063843e47",
   "metadata": {},
   "outputs": [],
   "source": [
    "def f(x, y, z):\n",
    "    return (x + y) / z\n",
    "    \n",
    "a = 5\n",
    "b = 6\n",
    "c = 7.5\n",
    "\n",
    "result = f(a, b, c)"
   ]
  },
  {
   "cell_type": "code",
   "execution_count": 39,
   "id": "404d5dbe-a55b-4806-9b06-e9aee2268da2",
   "metadata": {},
   "outputs": [],
   "source": [
    "# 실행중인 코드 중지하기 ctrl-c"
   ]
  },
  {
   "cell_type": "code",
   "execution_count": 41,
   "id": "590d2abd-d4a1-4920-af46-17427c1de2ff",
   "metadata": {},
   "outputs": [],
   "source": [
    "# 복붙 함수 %paste %cpaste"
   ]
  },
  {
   "cell_type": "code",
   "execution_count": 45,
   "id": "b88f3c98-0be4-40f0-be9d-2399d110ceef",
   "metadata": {},
   "outputs": [],
   "source": [
    "x = 5\n",
    "y = 7\n",
    "if x > 5:\n",
    "    x += 1\n",
    "\n",
    "    y = 8"
   ]
  },
  {
   "cell_type": "code",
   "execution_count": 52,
   "id": "80d03cb3-6837-43cb-9353-f056effdce96",
   "metadata": {},
   "outputs": [
    {
     "name": "stderr",
     "output_type": "stream",
     "text": [
      "UsageError: Line magic function `%paste` not found.\n"
     ]
    }
   ],
   "source": [
    "%paste\n",
    "x = 5\n",
    "y = 7\n",
    "if x > 5:\n",
    "    x += 1\n",
    "\n",
    "    y = 8"
   ]
  },
  {
   "cell_type": "code",
   "execution_count": 53,
   "id": "23c728da-7d56-40af-9244-2c1373bc0555",
   "metadata": {},
   "outputs": [
    {
     "name": "stderr",
     "output_type": "stream",
     "text": [
      "UsageError: Line magic function `%cpaste` not found.\n"
     ]
    }
   ],
   "source": [
    "%cpaste"
   ]
  },
  {
   "cell_type": "code",
   "execution_count": 56,
   "id": "3f06a000-1052-4a9b-885e-599d10ec9638",
   "metadata": {},
   "outputs": [],
   "source": [
    "%matplotlib inline"
   ]
  },
  {
   "cell_type": "code",
   "execution_count": 57,
   "id": "42c514a9-8228-4562-9225-632476a172fc",
   "metadata": {},
   "outputs": [],
   "source": [
    "# matplotlib 매직함수를 실행하지 않으면 노트북의 경우 그래프가 화면에 나타나지 않거나 셸의 경우 세션의 제어권을 뺏기게 되므로 중요하다."
   ]
  },
  {
   "cell_type": "code",
   "execution_count": 58,
   "id": "43b6dae8-0262-4cbf-b171-1fa670616fe6",
   "metadata": {},
   "outputs": [],
   "source": [
    "#~p.59 정리"
   ]
  },
  {
   "cell_type": "code",
   "execution_count": 59,
   "id": "844c2b22-3003-4623-9dbc-3e18ecc46405",
   "metadata": {},
   "outputs": [],
   "source": [
    "a = [1, 2, 3]"
   ]
  },
  {
   "cell_type": "code",
   "execution_count": 60,
   "id": "9aa5533e-ce49-4d18-94ea-5d709e51b6bd",
   "metadata": {},
   "outputs": [],
   "source": [
    "b = a"
   ]
  },
  {
   "cell_type": "code",
   "execution_count": 61,
   "id": "c48659e8-91a3-48b1-9831-a722de6c9b6a",
   "metadata": {},
   "outputs": [],
   "source": [
    "a.append(4)"
   ]
  },
  {
   "cell_type": "code",
   "execution_count": 62,
   "id": "1108b9bf-aedd-4022-be9f-4c59199165b7",
   "metadata": {},
   "outputs": [
    {
     "data": {
      "text/plain": [
       "[1, 2, 3, 4]"
      ]
     },
     "execution_count": 62,
     "metadata": {},
     "output_type": "execute_result"
    }
   ],
   "source": [
    "b"
   ]
  },
  {
   "cell_type": "code",
   "execution_count": 63,
   "id": "80ec560d-64fb-4351-a3eb-6ac29691e30b",
   "metadata": {},
   "outputs": [],
   "source": [
    "# 변수에 값을 할당하는 것은 이름을 객체에 연결하는 것이므로 바인딩이라고 부른다. 값이 할당된 변수 이름을 때때로 바운드 변수라고 부른다."
   ]
  },
  {
   "cell_type": "code",
   "execution_count": 64,
   "id": "59cd2a4e-4cf0-4b2a-b341-30fe86e95ba4",
   "metadata": {},
   "outputs": [],
   "source": [
    "data = [1, 2, 3]"
   ]
  },
  {
   "cell_type": "code",
   "execution_count": 65,
   "id": "b2e86bd7-9781-4d63-b52a-1f34c500dceb",
   "metadata": {},
   "outputs": [
    {
     "ename": "NameError",
     "evalue": "name 'append_element' is not defined",
     "output_type": "error",
     "traceback": [
      "\u001b[1;31m---------------------------------------------------------------------------\u001b[0m",
      "\u001b[1;31mNameError\u001b[0m                                 Traceback (most recent call last)",
      "Input \u001b[1;32mIn [65]\u001b[0m, in \u001b[0;36m<cell line: 1>\u001b[1;34m()\u001b[0m\n\u001b[1;32m----> 1\u001b[0m \u001b[43mappend_element\u001b[49m(data, \u001b[38;5;241m4\u001b[39m)\n",
      "\u001b[1;31mNameError\u001b[0m: name 'append_element' is not defined"
     ]
    }
   ],
   "source": [
    "append_element(data, 4)"
   ]
  },
  {
   "cell_type": "code",
   "execution_count": 3,
   "id": "e24d7ce7-bc30-4820-82a0-59b745b59881",
   "metadata": {},
   "outputs": [],
   "source": [
    "def isiterable(obj):\n",
    "    try:\n",
    "         iter(obj)\n",
    "         return True\n",
    "    except TypeError: # iterable 객체 아님\n",
    "         return False"
   ]
  },
  {
   "cell_type": "code",
   "execution_count": 4,
   "id": "9535211e-87d8-4036-9d1a-e96067acad8d",
   "metadata": {},
   "outputs": [
    {
     "data": {
      "text/plain": [
       "True"
      ]
     },
     "execution_count": 4,
     "metadata": {},
     "output_type": "execute_result"
    }
   ],
   "source": [
    "isiterable('a string')"
   ]
  },
  {
   "cell_type": "code",
   "execution_count": 5,
   "id": "41c2dbd9-335a-4dfc-8624-9074b2c855d4",
   "metadata": {},
   "outputs": [
    {
     "data": {
      "text/plain": [
       "True"
      ]
     },
     "execution_count": 5,
     "metadata": {},
     "output_type": "execute_result"
    }
   ],
   "source": [
    "isiterable([1, 2, 3])"
   ]
  },
  {
   "cell_type": "code",
   "execution_count": 69,
   "id": "0c96d3fd-5df1-4249-b2dd-d37cfcfb835f",
   "metadata": {},
   "outputs": [],
   "source": [
    "#덕 타이핑은 그 객체가 어떤 메서드나 행동을 지원하는지만 알고 싶은 경우 사용한다. 여러 개의 입력을 처리해야 하는 함수의 경우 이 기능을 사용한다. "
   ]
  },
  {
   "cell_type": "code",
   "execution_count": 7,
   "id": "c5e971e4-5805-49a9-8a81-fafca9e7a023",
   "metadata": {},
   "outputs": [
    {
     "ename": "NameError",
     "evalue": "name 'x' is not defined",
     "output_type": "error",
     "traceback": [
      "\u001b[1;31m---------------------------------------------------------------------------\u001b[0m",
      "\u001b[1;31mNameError\u001b[0m                                 Traceback (most recent call last)",
      "Input \u001b[1;32mIn [7]\u001b[0m, in \u001b[0;36m<cell line: 1>\u001b[1;34m()\u001b[0m\n\u001b[1;32m----> 1\u001b[0m \u001b[38;5;28;01mif\u001b[39;00m \u001b[38;5;129;01mnot\u001b[39;00m \u001b[38;5;28misinstance\u001b[39m(\u001b[43mx\u001b[49m, \u001b[38;5;28mlist\u001b[39m) \u001b[38;5;129;01mand\u001b[39;00m isiterable(x):\n\u001b[0;32m      2\u001b[0m     x \u001b[38;5;241m=\u001b[39m \u001b[38;5;28mlist\u001b[39m(x)\n",
      "\u001b[1;31mNameError\u001b[0m: name 'x' is not defined"
     ]
    }
   ],
   "source": [
    "if not isinstance(x, list) and isiterable(x):\n",
    "    x = list(x)"
   ]
  },
  {
   "cell_type": "code",
   "execution_count": 71,
   "id": "16a5ebd1-3d45-4961-b5a3-dac7c7b410d0",
   "metadata": {},
   "outputs": [
    {
     "ename": "ModuleNotFoundError",
     "evalue": "No module named 'some_module'",
     "output_type": "error",
     "traceback": [
      "\u001b[1;31m---------------------------------------------------------------------------\u001b[0m",
      "\u001b[1;31mModuleNotFoundError\u001b[0m                       Traceback (most recent call last)",
      "Input \u001b[1;32mIn [71]\u001b[0m, in \u001b[0;36m<cell line: 1>\u001b[1;34m()\u001b[0m\n\u001b[1;32m----> 1\u001b[0m \u001b[38;5;28;01mimport\u001b[39;00m \u001b[38;5;21;01msome_module\u001b[39;00m\n\u001b[0;32m      2\u001b[0m result \u001b[38;5;241m=\u001b[39m some_module\u001b[38;5;241m.\u001b[39mf(\u001b[38;5;241m5\u001b[39m)\n\u001b[0;32m      3\u001b[0m pi \u001b[38;5;241m=\u001b[39m some_module\u001b[38;5;241m.\u001b[39mPI\n",
      "\u001b[1;31mModuleNotFoundError\u001b[0m: No module named 'some_module'"
     ]
    }
   ],
   "source": [
    "import some_module\n",
    "result = some_module.f(5)\n",
    "pi = some_module.PI"
   ]
  },
  {
   "cell_type": "code",
   "execution_count": 72,
   "id": "5c55ee7b-4419-48cb-a6d7-681c7d53379a",
   "metadata": {},
   "outputs": [
    {
     "ename": "ModuleNotFoundError",
     "evalue": "No module named 'some_module'",
     "output_type": "error",
     "traceback": [
      "\u001b[1;31m---------------------------------------------------------------------------\u001b[0m",
      "\u001b[1;31mModuleNotFoundError\u001b[0m                       Traceback (most recent call last)",
      "Input \u001b[1;32mIn [72]\u001b[0m, in \u001b[0;36m<cell line: 1>\u001b[1;34m()\u001b[0m\n\u001b[1;32m----> 1\u001b[0m \u001b[38;5;28;01mfrom\u001b[39;00m \u001b[38;5;21;01msome_module\u001b[39;00m \u001b[38;5;28;01mimport\u001b[39;00m f, g, PI\n\u001b[0;32m      2\u001b[0m result \u001b[38;5;241m=\u001b[39m g (\u001b[38;5;241m5\u001b[39m, PI)\n",
      "\u001b[1;31mModuleNotFoundError\u001b[0m: No module named 'some_module'"
     ]
    }
   ],
   "source": [
    "from some_module import f, g, PI\n",
    "result = g (5, PI)"
   ]
  },
  {
   "cell_type": "code",
   "execution_count": 73,
   "id": "2445ee54-a19b-4c41-8802-0799885e6e90",
   "metadata": {},
   "outputs": [],
   "source": [
    "#as 예약어를 사용하면 모듈을 다른 이름으로 임포트할 수 있다. "
   ]
  },
  {
   "cell_type": "code",
   "execution_count": 74,
   "id": "441915ef-d45e-4c33-80db-c0ad7dc74391",
   "metadata": {},
   "outputs": [
    {
     "ename": "ModuleNotFoundError",
     "evalue": "No module named 'some_module'",
     "output_type": "error",
     "traceback": [
      "\u001b[1;31m---------------------------------------------------------------------------\u001b[0m",
      "\u001b[1;31mModuleNotFoundError\u001b[0m                       Traceback (most recent call last)",
      "Input \u001b[1;32mIn [74]\u001b[0m, in \u001b[0;36m<cell line: 1>\u001b[1;34m()\u001b[0m\n\u001b[1;32m----> 1\u001b[0m \u001b[38;5;28;01mimport\u001b[39;00m \u001b[38;5;21;01msome_module\u001b[39;00m \u001b[38;5;28;01mas\u001b[39;00m \u001b[38;5;21;01msm\u001b[39;00m\n",
      "\u001b[1;31mModuleNotFoundError\u001b[0m: No module named 'some_module'"
     ]
    }
   ],
   "source": [
    "import some_module as sm"
   ]
  },
  {
   "cell_type": "code",
   "execution_count": 75,
   "id": "e130235d-61d9-4011-924f-d814dff2c793",
   "metadata": {},
   "outputs": [
    {
     "ename": "ModuleNotFoundError",
     "evalue": "No module named 'some_module'",
     "output_type": "error",
     "traceback": [
      "\u001b[1;31m---------------------------------------------------------------------------\u001b[0m",
      "\u001b[1;31mModuleNotFoundError\u001b[0m                       Traceback (most recent call last)",
      "Input \u001b[1;32mIn [75]\u001b[0m, in \u001b[0;36m<cell line: 1>\u001b[1;34m()\u001b[0m\n\u001b[1;32m----> 1\u001b[0m \u001b[38;5;28;01mimport\u001b[39;00m \u001b[38;5;21;01msome_module\u001b[39;00m \u001b[38;5;28;01mas\u001b[39;00m \u001b[38;5;21;01msm\u001b[39;00m\n",
      "\u001b[1;31mModuleNotFoundError\u001b[0m: No module named 'some_module'"
     ]
    }
   ],
   "source": [
    "import some_module as sm "
   ]
  },
  {
   "cell_type": "code",
   "execution_count": 76,
   "id": "a7eda42c-62b7-430c-bc2e-8f2a963934e4",
   "metadata": {},
   "outputs": [
    {
     "ename": "ModuleNotFoundError",
     "evalue": "No module named 'some_module'",
     "output_type": "error",
     "traceback": [
      "\u001b[1;31m---------------------------------------------------------------------------\u001b[0m",
      "\u001b[1;31mModuleNotFoundError\u001b[0m                       Traceback (most recent call last)",
      "Input \u001b[1;32mIn [76]\u001b[0m, in \u001b[0;36m<cell line: 1>\u001b[1;34m()\u001b[0m\n\u001b[1;32m----> 1\u001b[0m \u001b[38;5;28;01mimport\u001b[39;00m \u001b[38;5;21;01msome_module\u001b[39;00m \u001b[38;5;28;01mas\u001b[39;00m \u001b[38;5;21;01msm\u001b[39;00m \n\u001b[0;32m      2\u001b[0m \u001b[38;5;28;01mfrom\u001b[39;00m \u001b[38;5;21;01msome_module\u001b[39;00m \u001b[38;5;28;01mimport\u001b[39;00m PI \u001b[38;5;28;01mas\u001b[39;00m pi, g \u001b[38;5;28;01mas\u001b[39;00m gf\n\u001b[0;32m      4\u001b[0m r1 \u001b[38;5;241m=\u001b[39m sm\u001b[38;5;241m.\u001b[39mf(pi)\n",
      "\u001b[1;31mModuleNotFoundError\u001b[0m: No module named 'some_module'"
     ]
    }
   ],
   "source": [
    "import some_module as sm \n",
    "from some_module import PI as pi, g as gf\n",
    "\n",
    "r1 = sm.f(pi)\n",
    "r2 = gf(6, pi)"
   ]
  },
  {
   "cell_type": "code",
   "execution_count": 77,
   "id": "284f21c2-5439-4b5b-b3de-466d34e54fbe",
   "metadata": {},
   "outputs": [
    {
     "ename": "SyntaxError",
     "evalue": "unexpected character after line continuation character (2573288772.py, line 2)",
     "output_type": "error",
     "traceback": [
      "\u001b[1;36m  Input \u001b[1;32mIn [77]\u001b[1;36m\u001b[0m\n\u001b[1;33m    a \\ b\u001b[0m\n\u001b[1;37m       ^\u001b[0m\n\u001b[1;31mSyntaxError\u001b[0m\u001b[1;31m:\u001b[0m unexpected character after line continuation character\n"
     ]
    }
   ],
   "source": [
    "a & b \n",
    "a | b\n",
    "a == b \n",
    "a != b"
   ]
  },
  {
   "cell_type": "code",
   "execution_count": 79,
   "id": "ed8daabc-b63e-4b34-8cba-3a44d63691f7",
   "metadata": {},
   "outputs": [],
   "source": [
    "#파이썬에서 리스트, 사전, NumPy 배열 또는 사용자 정의 클래스 같은 대부분의 객체는 변경 가능하다(뮤터블). 이 말은 객체나 값으 내용을 바꿀 수 있다는 뜻이다."
   ]
  },
  {
   "cell_type": "code",
   "execution_count": 80,
   "id": "28fc7c47-0c48-46a5-bfad-eb290b89f041",
   "metadata": {},
   "outputs": [],
   "source": [
    "a_list = ['foo', 2, [4, 5]]"
   ]
  },
  {
   "cell_type": "code",
   "execution_count": 82,
   "id": "83c4e26d-b3e4-41d9-875a-2096ef0370d6",
   "metadata": {},
   "outputs": [],
   "source": [
    "a_list[2] = (3, 4)"
   ]
  },
  {
   "cell_type": "code",
   "execution_count": 83,
   "id": "9296f4f2-cb18-4c05-85b7-47bed42271fe",
   "metadata": {},
   "outputs": [
    {
     "data": {
      "text/plain": [
       "['foo', 2, (3, 4)]"
      ]
     },
     "execution_count": 83,
     "metadata": {},
     "output_type": "execute_result"
    }
   ],
   "source": [
    "a_list"
   ]
  },
  {
   "cell_type": "code",
   "execution_count": 84,
   "id": "5b53c3ca-9f61-49da-983a-f55bda4d23cf",
   "metadata": {},
   "outputs": [],
   "source": [
    "#두번째 값이 바뀌지 않고 3번재 값이 3,4로 바뀌었다. 왜일까?"
   ]
  },
  {
   "cell_type": "code",
   "execution_count": 85,
   "id": "7327cfbb-5b93-42f4-9812-d5e6e76ca604",
   "metadata": {},
   "outputs": [],
   "source": [
    "#문자열이나 튜플은 변경 불가능하다 (이뮤터블)"
   ]
  },
  {
   "cell_type": "code",
   "execution_count": 86,
   "id": "e5e4d515-f80b-48af-a602-67a671ca09b5",
   "metadata": {},
   "outputs": [],
   "source": [
    "a_tuple = (3, 5, (4, 5))"
   ]
  },
  {
   "cell_type": "code",
   "execution_count": 87,
   "id": "47414aa1-778a-4b9c-bb90-67691966bb6a",
   "metadata": {},
   "outputs": [
    {
     "ename": "TypeError",
     "evalue": "'tuple' object does not support item assignment",
     "output_type": "error",
     "traceback": [
      "\u001b[1;31m---------------------------------------------------------------------------\u001b[0m",
      "\u001b[1;31mTypeError\u001b[0m                                 Traceback (most recent call last)",
      "Input \u001b[1;32mIn [87]\u001b[0m, in \u001b[0;36m<cell line: 1>\u001b[1;34m()\u001b[0m\n\u001b[1;32m----> 1\u001b[0m a_tuple[\u001b[38;5;241m1\u001b[39m] \u001b[38;5;241m=\u001b[39m \u001b[38;5;124m'\u001b[39m\u001b[38;5;124mfour\u001b[39m\u001b[38;5;124m'\u001b[39m\n",
      "\u001b[1;31mTypeError\u001b[0m: 'tuple' object does not support item assignment"
     ]
    }
   ],
   "source": [
    "a_tuple[1] = 'four'"
   ]
  },
  {
   "cell_type": "code",
   "execution_count": 88,
   "id": "0d63cefb-9dfa-4372-9d2b-892e3a635e0e",
   "metadata": {},
   "outputs": [],
   "source": [
    "#숫자 관련 자료형은 int와 float가 있다. int는 임의의 숫자를 저장할 수 있다."
   ]
  },
  {
   "cell_type": "code",
   "execution_count": 91,
   "id": "000ecd62-9606-4b5e-9c64-3ad034a55483",
   "metadata": {},
   "outputs": [],
   "source": [
    "#삼항 표현식 if-else 블록을 한 줄로 표현할 수 있다."
   ]
  }
 ],
 "metadata": {
  "kernelspec": {
   "display_name": "Python 3.8.12 ('svmglee')",
   "language": "python",
   "name": "python3"
  },
  "language_info": {
   "codemirror_mode": {
    "name": "ipython",
    "version": 3
   },
   "file_extension": ".py",
   "mimetype": "text/x-python",
   "name": "python",
   "nbconvert_exporter": "python",
   "pygments_lexer": "ipython3",
   "version": "3.8.12"
  },
  "vscode": {
   "interpreter": {
    "hash": "c6f34507fa43ba317958b721fa8398d2051b96ef3f3b32ff98429c26ce06f8cf"
   }
  }
 },
 "nbformat": 4,
 "nbformat_minor": 5
}
