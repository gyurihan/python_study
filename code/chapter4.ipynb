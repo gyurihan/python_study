{
 "cells": [
  {
   "cell_type": "markdown",
   "id": "de448ecc-387d-4d28-9976-7305ca798d37",
   "metadata": {},
   "source": [
    "# NumPy 기본: 배열과 벡터 연산"
   ]
  },
  {
   "cell_type": "markdown",
   "id": "6b6d564f-9bb9-4b76-b4e9-9f2b751119d5",
   "metadata": {},
   "source": [
    "NumPy는 Numerical Python의 줄임말로, 파이썬에서 산술 계산을 윟나 가장 중요한 필수 패키지 중 하나다. 과학 계산을 위한 대부분의 패키지는 NumPy의 배열 객체를 데이터 교환을 위한 공통 언어처럼 사용한다. \n",
    "Numpy에서 제공하는 것들은 다음과 같다.\n",
    " - 효율적인 다차원 배열인 ndarray는 빠른 배열 계산과 유연한 브로드캐스팅 기능을 제공한다. \n",
    " - 반복문을 작성할 필요 없이 전체 데이터 배열을 빠르게 계산할 수 있는 표준 수학 함수\n",
    " - 배열 데이터를 디스크에 쓰거나 읽을 수 있는 도구와 메모리에 적재된 파일을 다루는 도구\n",
    " - 선형대수, 난수 생성기, 푸리에 변환 기능\n",
    " - C, C++, 포트란으로 작성한 코드를 연결할 수 있는 C API"
   ]
  },
  {
   "cell_type": "code",
   "execution_count": null,
   "id": "841ae6bc-eb86-4ecc-b06b-01122533a996",
   "metadata": {},
   "outputs": [],
   "source": []
  }
 ],
 "metadata": {
  "kernelspec": {
   "display_name": "Python 3 (ipykernel)",
   "language": "python",
   "name": "python3"
  },
  "language_info": {
   "codemirror_mode": {
    "name": "ipython",
    "version": 3
   },
   "file_extension": ".py",
   "mimetype": "text/x-python",
   "name": "python",
   "nbconvert_exporter": "python",
   "pygments_lexer": "ipython3",
   "version": "3.9.12"
  }
 },
 "nbformat": 4,
 "nbformat_minor": 5
}
