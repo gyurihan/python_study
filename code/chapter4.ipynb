{
 "cells": [
  {
   "cell_type": "markdown",
   "id": "de448ecc-387d-4d28-9976-7305ca798d37",
   "metadata": {},
   "source": [
    "# NumPy 기본: 배열과 벡터 연산"
   ]
  },
  {
   "cell_type": "code",
   "execution_count": null,
   "id": "be88d787-ba04-40ac-a8cf-b42e12ac2462",
   "metadata": {},
   "outputs": [],
   "source": [
    "NumPy는 Numerical Python의 줄임말로, 파이썬에서 산술 계산을 윟나 가장 중요한 필수 패키지 중 하나다. 과학 계산을 위한 대부분의 패키지는 NumPy의 배열 객체를 데이터 교환을 위한 공통 언어처럼 사용한다. \n",
    "Numpy에서 제공하는 것들은 다음과 같다.\n",
    " - 효율적인 다차원 배열인 ndarray는 빠른 배열 계산과 유연한 브로드캐스팅 기능을 제공한다. \n",
    " - 반복문을 작성할 필요 없이 전체 데이터 배열을 빠르게 계산할 수 있는 표준 수학 함수\n",
    " - 배열 데이터를 디스크에 쓰거나 읽을 수 있는 도구와 메모리에 적재된 파일을 다루는 도구\n",
    " - 선형대수, 난수 생성기, 푸리에 변환 기능\n",
    " - C, C++, 포트란으로 작성한 코드를 연결할 수 있는 C API"
   ]
  },
  {
   "cell_type": "code",
   "execution_count": 15,
   "id": "cf9a43ee-9d7a-4642-984b-7c5e20660ec6",
   "metadata": {},
   "outputs": [],
   "source": [
    "# Numpy는 통계나 분석, 특히 표 형식의 데이터를 처리하기 위해 pandas를 사용하기 원할 것이다. 또한 pandas는 Numpy에는 없는 시계열 처리 같은 다양한 도메인 특화 기능을 제공한다. \n",
    "# 대용량 배열을 효율적으로 다룰 수 있도록 설계되었다는 점이 Numpy가 파이썬 산술 계산 영역에서 중요한 위치를 차지하는 이유 중 하나이다. \n",
    "# Numpy 배열은 내부적으로 데이터를 다른 내장 파이썬 객체와 구분된 연속된 메모리 블록에 저장한다. Numpy의 각종 알고리즘은 모두 C로 작성되어 타입 검사나 다른 오버헤드 없이 메모리를 직접 조작할 수 있다. \n",
    "# Numpy 연산은 파이썬 반복문을 사용하지 않고 전체 배열에 대한 복잡한 계산을 수행할 수 있다. "
   ]
  },
  {
   "cell_type": "code",
   "execution_count": 3,
   "id": "85fc962b-a977-435a-aa9f-3ce950dc8cdc",
   "metadata": {},
   "outputs": [],
   "source": [
    "import numpy as np\n",
    "my_arr = np.arange(1000000)\n",
    "my_list = list(range(1000000))"
   ]
  },
  {
   "cell_type": "code",
   "execution_count": 4,
   "id": "0cb3a92b-e629-4317-ba23-9e06ae500ef3",
   "metadata": {},
   "outputs": [
    {
     "name": "stdout",
     "output_type": "stream",
     "text": [
      "CPU times: total: 46.9 ms\n",
      "Wall time: 26.9 ms\n"
     ]
    }
   ],
   "source": [
    "%time for _ in range(10): my_arr2 = my_arr * 2"
   ]
  },
  {
   "cell_type": "code",
   "execution_count": 5,
   "id": "47f792f4-4fd9-4adc-963d-4f9c78a79b66",
   "metadata": {},
   "outputs": [
    {
     "name": "stdout",
     "output_type": "stream",
     "text": [
      "CPU times: total: 812 ms\n",
      "Wall time: 823 ms\n"
     ]
    }
   ],
   "source": [
    "%time for _ in range(10): my_list2 = [x * 2 for x in my_list]"
   ]
  },
  {
   "cell_type": "code",
   "execution_count": 7,
   "id": "2c6cb587-5a9b-4501-bcb4-f28e5c72f065",
   "metadata": {},
   "outputs": [
    {
     "data": {
      "text/plain": [
       "array([[ 0.20363465, -0.11624657, -0.16583529],\n",
       "       [-0.21946347, -0.27621464,  0.07413789]])"
      ]
     },
     "execution_count": 7,
     "metadata": {},
     "output_type": "execute_result"
    }
   ],
   "source": [
    "import numpy as np\n",
    "# 임의의 값을 생성\n",
    "data = np.random.randn(2, 3)\n",
    "data"
   ]
  },
  {
   "cell_type": "code",
   "execution_count": 9,
   "id": "943bb3c4-85fe-4a4a-a65c-d02dfe5b2bba",
   "metadata": {},
   "outputs": [],
   "source": [
    "# Numpy의 핵심 기능 중 하나는 ndarray라고 하는 N차원의 배열 객체인데 파이썬에서 사용할 수 있는 대규모 데이터 집합을 담을 수 있는 빠르고 유연한 자료구조이다. \n",
    "# 배열은 스칼라 원소간의 연산에 사용하는 문법과 비슷한 방식을 사용해서 전체 데이터 블록에 수학적인 연산을 수행할 수 있도록 해준다. \n",
    "# 파이썬 내장 객체의 스칼라값을 다루는 것과 유사한 방법으로 배치 계산을 처리하는 방법을 알아보기 위해 우선 NumPy 패키지를 임포트하고 임의의 값이 들어 있는 작은 배열을 만들어보겠다. "
   ]
  },
  {
   "cell_type": "code",
   "execution_count": 10,
   "id": "f6b018c9-d133-419a-9865-18b4f8783f95",
   "metadata": {},
   "outputs": [],
   "source": [
    "import numpy as np"
   ]
  },
  {
   "cell_type": "code",
   "execution_count": 11,
   "id": "d6065764-5ed4-460c-84e5-ecb935e7f77b",
   "metadata": {},
   "outputs": [
    {
     "data": {
      "text/plain": [
       "array([[-0.00855588, -0.25849671, -0.51756204],\n",
       "       [ 0.56093447,  0.4279925 , -1.11647541]])"
      ]
     },
     "execution_count": 11,
     "metadata": {},
     "output_type": "execute_result"
    }
   ],
   "source": [
    "data = np.random.randn(2, 3)\n",
    "data"
   ]
  },
  {
   "cell_type": "code",
   "execution_count": 16,
   "id": "e36fbbb4-89f8-4ce0-9af1-09de52c893c9",
   "metadata": {},
   "outputs": [
    {
     "data": {
      "text/plain": [
       "array([[ -0.0855588 ,  -2.5849671 ,  -5.17562036],\n",
       "       [  5.6093447 ,   4.27992504, -11.16475414]])"
      ]
     },
     "execution_count": 16,
     "metadata": {},
     "output_type": "execute_result"
    }
   ],
   "source": [
    "data * 10"
   ]
  },
  {
   "cell_type": "code",
   "execution_count": 17,
   "id": "d37ee14f-5f48-4dba-b08f-e3e0bdecc80e",
   "metadata": {},
   "outputs": [
    {
     "data": {
      "text/plain": [
       "array([[-0.01711176, -0.51699342, -1.03512407],\n",
       "       [ 1.12186894,  0.85598501, -2.23295083]])"
      ]
     },
     "execution_count": 17,
     "metadata": {},
     "output_type": "execute_result"
    }
   ],
   "source": [
    "data + data"
   ]
  },
  {
   "cell_type": "code",
   "execution_count": 18,
   "id": "f5d6eee0-23b2-4806-a670-8972dd02f8ca",
   "metadata": {},
   "outputs": [],
   "source": [
    "# ndarray는 같은 종류의 데이터를 담을 수 있는 포괄적인 다차원 배열이다.\n",
    "# nddarray의 모든 원소는 같은 자료형이어야 한다. 모든 배열은 각 차원의 크기를 알려주는 shape라는 튜플과 배열에 저장된 자료형을 알려주는 dtype이라는 객체를 가지고 있다. "
   ]
  },
  {
   "cell_type": "code",
   "execution_count": 19,
   "id": "29bb7474-641a-4a9f-adc5-5f9cd5405d61",
   "metadata": {},
   "outputs": [
    {
     "data": {
      "text/plain": [
       "(2, 3)"
      ]
     },
     "execution_count": 19,
     "metadata": {},
     "output_type": "execute_result"
    }
   ],
   "source": [
    "data.shape"
   ]
  },
  {
   "cell_type": "code",
   "execution_count": 20,
   "id": "d687fbc6-7008-4d43-b6de-09249c23da09",
   "metadata": {},
   "outputs": [
    {
     "data": {
      "text/plain": [
       "dtype('float64')"
      ]
     },
     "execution_count": 20,
     "metadata": {},
     "output_type": "execute_result"
    }
   ],
   "source": [
    "data.dtype"
   ]
  },
  {
   "cell_type": "markdown",
   "id": "a248a8ba-34a9-4198-ad72-0176bfa6857f",
   "metadata": {},
   "source": [
    "### ndarray 생성하기"
   ]
  },
  {
   "cell_type": "code",
   "execution_count": 21,
   "id": "1609bbd2-aa1f-48c7-904d-4e6c7a878b60",
   "metadata": {},
   "outputs": [],
   "source": [
    "# 배열을 생성하기 가장 쉬운 방법은 array 함수를 이용하는 것이다. 순차적인 객체를 넘겨받고, 넘겨받은 데이터가 들어 있는 새로운 Numpy 배열을 생성한다. "
   ]
  },
  {
   "cell_type": "code",
   "execution_count": 22,
   "id": "476191a2-d7e7-48e9-a5b5-baf630e5fd98",
   "metadata": {},
   "outputs": [],
   "source": [
    "data1 = [6, 7.5, 8, 0, 1]"
   ]
  },
  {
   "cell_type": "code",
   "execution_count": 23,
   "id": "11cdaf67-7b36-42cc-9d47-592fe3daabd6",
   "metadata": {},
   "outputs": [],
   "source": [
    "arr1 = np.array(data1)"
   ]
  },
  {
   "cell_type": "code",
   "execution_count": 24,
   "id": "986d796f-1033-4b55-af53-d39a6b289d77",
   "metadata": {},
   "outputs": [
    {
     "data": {
      "text/plain": [
       "array([6. , 7.5, 8. , 0. , 1. ])"
      ]
     },
     "execution_count": 24,
     "metadata": {},
     "output_type": "execute_result"
    }
   ],
   "source": [
    "arr1"
   ]
  },
  {
   "cell_type": "code",
   "execution_count": 25,
   "id": "f9535fcf-773f-492a-b74c-a0f486ceafc5",
   "metadata": {},
   "outputs": [],
   "source": [
    "data2 = [[1, 2, 3, 4], [5, 6, 7, 8]]"
   ]
  },
  {
   "cell_type": "code",
   "execution_count": 26,
   "id": "12dddb38-7f3b-4dfc-b9f4-4e4202b7751a",
   "metadata": {},
   "outputs": [],
   "source": [
    "arr2 = np.array(data2)"
   ]
  },
  {
   "cell_type": "code",
   "execution_count": 27,
   "id": "7512789f-3316-4431-9e0b-546b960b16ac",
   "metadata": {},
   "outputs": [
    {
     "data": {
      "text/plain": [
       "array([[1, 2, 3, 4],\n",
       "       [5, 6, 7, 8]])"
      ]
     },
     "execution_count": 27,
     "metadata": {},
     "output_type": "execute_result"
    }
   ],
   "source": [
    "arr2"
   ]
  },
  {
   "cell_type": "code",
   "execution_count": 28,
   "id": "fb5e9c75-7522-4331-9db7-7e760a26bf8c",
   "metadata": {},
   "outputs": [
    {
     "data": {
      "text/plain": [
       "2"
      ]
     },
     "execution_count": 28,
     "metadata": {},
     "output_type": "execute_result"
    }
   ],
   "source": [
    "arr2.ndim"
   ]
  },
  {
   "cell_type": "code",
   "execution_count": 29,
   "id": "78aed9c4-6183-45b9-b4e5-827c723098a2",
   "metadata": {},
   "outputs": [
    {
     "data": {
      "text/plain": [
       "(2, 4)"
      ]
     },
     "execution_count": 29,
     "metadata": {},
     "output_type": "execute_result"
    }
   ],
   "source": [
    "arr2.shape"
   ]
  },
  {
   "cell_type": "code",
   "execution_count": 30,
   "id": "7986e01f-80bf-4176-9985-5c7736901b97",
   "metadata": {},
   "outputs": [
    {
     "data": {
      "text/plain": [
       "dtype('float64')"
      ]
     },
     "execution_count": 30,
     "metadata": {},
     "output_type": "execute_result"
    }
   ],
   "source": [
    "arr1.dtype"
   ]
  },
  {
   "cell_type": "code",
   "execution_count": 31,
   "id": "5d2fe2e5-a7ee-4c8c-b5b5-e7d28b618d97",
   "metadata": {},
   "outputs": [
    {
     "data": {
      "text/plain": [
       "dtype('int32')"
      ]
     },
     "execution_count": 31,
     "metadata": {},
     "output_type": "execute_result"
    }
   ],
   "source": [
    "arr2.dtype"
   ]
  },
  {
   "cell_type": "code",
   "execution_count": 32,
   "id": "8831a6b3-2c58-4906-809e-9bbd4416423a",
   "metadata": {},
   "outputs": [
    {
     "data": {
      "text/plain": [
       "array([0., 0., 0., 0., 0., 0., 0., 0., 0., 0.])"
      ]
     },
     "execution_count": 32,
     "metadata": {},
     "output_type": "execute_result"
    }
   ],
   "source": [
    "np.zeros(10)"
   ]
  },
  {
   "cell_type": "code",
   "execution_count": 33,
   "id": "a4b1144b-0b08-45b8-91ae-1e98873ced18",
   "metadata": {},
   "outputs": [
    {
     "data": {
      "text/plain": [
       "array([[0., 0., 0., 0., 0., 0.],\n",
       "       [0., 0., 0., 0., 0., 0.],\n",
       "       [0., 0., 0., 0., 0., 0.]])"
      ]
     },
     "execution_count": 33,
     "metadata": {},
     "output_type": "execute_result"
    }
   ],
   "source": [
    "np.zeros((3,6))"
   ]
  },
  {
   "cell_type": "code",
   "execution_count": 34,
   "id": "17959de9-2efd-4c47-ac92-894ad600c51d",
   "metadata": {},
   "outputs": [
    {
     "data": {
      "text/plain": [
       "array([[[0., 0.],\n",
       "        [0., 0.],\n",
       "        [0., 0.]],\n",
       "\n",
       "       [[0., 0.],\n",
       "        [0., 0.],\n",
       "        [0., 0.]]])"
      ]
     },
     "execution_count": 34,
     "metadata": {},
     "output_type": "execute_result"
    }
   ],
   "source": [
    "np.zeros((2,3,2))"
   ]
  },
  {
   "cell_type": "code",
   "execution_count": 35,
   "id": "8babde7c-637a-457d-bb27-43c425813aab",
   "metadata": {},
   "outputs": [
    {
     "data": {
      "text/plain": [
       "array([ 0,  1,  2,  3,  4,  5,  6,  7,  8,  9, 10, 11, 12, 13, 14])"
      ]
     },
     "execution_count": 35,
     "metadata": {},
     "output_type": "execute_result"
    }
   ],
   "source": [
    "np.arange(15)"
   ]
  },
  {
   "cell_type": "code",
   "execution_count": 36,
   "id": "84f6a100-f8f4-49ae-8ace-4e3951af1574",
   "metadata": {},
   "outputs": [],
   "source": [
    "# float64(부동소수점)"
   ]
  },
  {
   "cell_type": "markdown",
   "id": "d982b28f-5a2d-4ca2-81f9-80a33615e032",
   "metadata": {},
   "source": [
    "array : 입력 데이터를 ndarray로 변환하며 dtype을 명시하지 않은 경우 자료형을 추론하여 저장한다. 기본적으로 입력 데이터는 복사된다. \n",
    "asarray : 입력 데이터를 ndarray로 변환하지만 입력 데이터가 이미 ndarray일 경우 복사가 일어나지 않는다. \n",
    "arange : 내장 range 함수와 유사하지만 리스트 대신 ndarray를 반환한다. \n",
    "ones, ones_like : 주어진 dtype과 모양을 가진 배열을 생성하고 내용을 모두 1로 초기화한다. ones_like는 주어진 배열과 동일한 모양과 dtype을 가지는 배열을 새로 생성하여 내용을 모두 1로 초기화한다. \n",
    "zeros, zeros_like : ones, ones_like와 동일하지만 내용을 0으로 채운다. \n",
    "empty, empty_like : 메모리를 할당하여 새로운 배열을 생성하지만 ones나 zeros처럼 값을 초기화하지 않는다. \n",
    "full, full_like : 인자로 받은 dtype과 배열의 모양을 가지는 배열을 생성하고 인자로 받은 값으로 배열을 채운다. "
   ]
  },
  {
   "cell_type": "markdown",
   "id": "b704be62-28ca-48ad-99eb-41fcaf165b01",
   "metadata": {},
   "source": [
    "### ndarray의 dtype"
   ]
  },
  {
   "cell_type": "code",
   "execution_count": 38,
   "id": "88b44bce-f9a8-4b3d-8fac-36d81dc86e28",
   "metadata": {},
   "outputs": [],
   "source": [
    "# dtype은 ndarray가 메모리에 있는 특정 데이터를 해석하기 위해 필요한 정보 또는 메타데이터를 담고 있는 툭수한 객체다. "
   ]
  },
  {
   "cell_type": "code",
   "execution_count": 39,
   "id": "e2ef5364-56df-43da-89d9-1dc3198fbf7e",
   "metadata": {},
   "outputs": [],
   "source": [
    "arr1= np.array([1, 2, 3], dtype=np.float64)"
   ]
  },
  {
   "cell_type": "code",
   "execution_count": 40,
   "id": "9020f65a-1e29-4653-878e-10c6f0df7b00",
   "metadata": {},
   "outputs": [],
   "source": [
    "arr2 = np.array([1, 2, 3], dtype=np.int32) "
   ]
  },
  {
   "cell_type": "code",
   "execution_count": 41,
   "id": "12fc3864-8251-4695-9205-3adb3b898a09",
   "metadata": {},
   "outputs": [
    {
     "data": {
      "text/plain": [
       "dtype('float64')"
      ]
     },
     "execution_count": 41,
     "metadata": {},
     "output_type": "execute_result"
    }
   ],
   "source": [
    "arr1.dtype"
   ]
  },
  {
   "cell_type": "code",
   "execution_count": 42,
   "id": "907865de-be43-49c7-9e5e-f338edbf0926",
   "metadata": {},
   "outputs": [
    {
     "data": {
      "text/plain": [
       "dtype('int32')"
      ]
     },
     "execution_count": 42,
     "metadata": {},
     "output_type": "execute_result"
    }
   ],
   "source": [
    "arr2.dtype"
   ]
  },
  {
   "cell_type": "markdown",
   "id": "2e99ce23-b132-4fe4-bee4-481bb80c8741",
   "metadata": {},
   "source": [
    "Numpy 의 모든 dtype을 외울 필요 없이, 주로 사용하게 될 자료형의 일반 종류인 부동소수점, 복소수, 정수, 불리언, 문자열, 일반 파이썬 객체만 신경쓰면 된다. "
   ]
  },
  {
   "cell_type": "code",
   "execution_count": 44,
   "id": "84c042fc-5fd3-4417-a0c9-e38b62b3edb0",
   "metadata": {},
   "outputs": [],
   "source": [
    "arr = np.array([1, 2, 3, 4, 5])"
   ]
  },
  {
   "cell_type": "code",
   "execution_count": 45,
   "id": "5b92459a-7099-4b30-9ad7-9a807ae6236d",
   "metadata": {},
   "outputs": [
    {
     "data": {
      "text/plain": [
       "dtype('int32')"
      ]
     },
     "execution_count": 45,
     "metadata": {},
     "output_type": "execute_result"
    }
   ],
   "source": [
    "arr.dtype"
   ]
  },
  {
   "cell_type": "code",
   "execution_count": 46,
   "id": "7a376f1f-9e95-43ad-8163-646a1c6f8e6a",
   "metadata": {},
   "outputs": [],
   "source": [
    "float_arr = arr.astype(np.float64)"
   ]
  },
  {
   "cell_type": "code",
   "execution_count": 47,
   "id": "9572debd-d85d-4325-be18-2beaab22b80e",
   "metadata": {},
   "outputs": [
    {
     "data": {
      "text/plain": [
       "dtype('float64')"
      ]
     },
     "execution_count": 47,
     "metadata": {},
     "output_type": "execute_result"
    }
   ],
   "source": [
    "float_arr.dtype"
   ]
  },
  {
   "cell_type": "code",
   "execution_count": 48,
   "id": "4082e15c-f016-49ac-ac24-80e9f084180f",
   "metadata": {},
   "outputs": [],
   "source": [
    "arr = np.array([3.7, -1.2, -2.6, 0.5, 12.9, 10.1])"
   ]
  },
  {
   "cell_type": "code",
   "execution_count": 49,
   "id": "3b38ee0c-dcf7-441c-96a1-d50bbf381218",
   "metadata": {},
   "outputs": [
    {
     "data": {
      "text/plain": [
       "array([ 3.7, -1.2, -2.6,  0.5, 12.9, 10.1])"
      ]
     },
     "execution_count": 49,
     "metadata": {},
     "output_type": "execute_result"
    }
   ],
   "source": [
    "arr"
   ]
  },
  {
   "cell_type": "code",
   "execution_count": 50,
   "id": "8b988ec2-b042-4296-9f9d-e2aa238e458c",
   "metadata": {},
   "outputs": [
    {
     "data": {
      "text/plain": [
       "array([ 3, -1, -2,  0, 12, 10])"
      ]
     },
     "execution_count": 50,
     "metadata": {},
     "output_type": "execute_result"
    }
   ],
   "source": [
    "arr.astype(np.int32)"
   ]
  },
  {
   "cell_type": "code",
   "execution_count": 51,
   "id": "fca72e13-c6ef-4995-90f3-e07a8788f08c",
   "metadata": {},
   "outputs": [],
   "source": [
    "numeric_strings = np.array(['1.25', '-9.6', '42'], dtype=np.string_)"
   ]
  },
  {
   "cell_type": "code",
   "execution_count": 52,
   "id": "95630ddb-307f-4622-8c92-50d3167e516c",
   "metadata": {},
   "outputs": [
    {
     "data": {
      "text/plain": [
       "array([ 1.25, -9.6 , 42.  ])"
      ]
     },
     "execution_count": 52,
     "metadata": {},
     "output_type": "execute_result"
    }
   ],
   "source": [
    "numeric_strings.astype(float)"
   ]
  },
  {
   "cell_type": "markdown",
   "id": "da50e4c8-a248-40de-9a14-0be805d4a3e3",
   "metadata": {},
   "source": [
    "### NumPy 배열의 산술 연산"
   ]
  },
  {
   "cell_type": "markdown",
   "id": "ec6773d7-5343-4b3b-9d9f-118a3d912a23",
   "metadata": {},
   "source": [
    "배열의 중요한 특징은 for 문을 작성하지 않고 데이터를 일괄 처리할 수 있다는 것이다. 이를 벡터화라고 하는데, 같은 크기의 배열 간의 산술 연산은 배열의 각 원소 단위로 적용된다. "
   ]
  },
  {
   "cell_type": "code",
   "execution_count": 53,
   "id": "dabb823b-0eea-4fb5-9c47-7f3612a2a923",
   "metadata": {},
   "outputs": [],
   "source": [
    "arr = np.array([[1., 2., 3.], [4., 5., 6.]])"
   ]
  },
  {
   "cell_type": "code",
   "execution_count": 54,
   "id": "3be678f6-7c83-4720-93a5-9ad786e46252",
   "metadata": {},
   "outputs": [
    {
     "data": {
      "text/plain": [
       "array([[1., 2., 3.],\n",
       "       [4., 5., 6.]])"
      ]
     },
     "execution_count": 54,
     "metadata": {},
     "output_type": "execute_result"
    }
   ],
   "source": [
    "arr"
   ]
  },
  {
   "cell_type": "code",
   "execution_count": 55,
   "id": "5e2f5dcb-842c-4f54-a55c-d300ed1dec89",
   "metadata": {},
   "outputs": [
    {
     "data": {
      "text/plain": [
       "array([[ 1.,  4.,  9.],\n",
       "       [16., 25., 36.]])"
      ]
     },
     "execution_count": 55,
     "metadata": {},
     "output_type": "execute_result"
    }
   ],
   "source": [
    "arr * arr"
   ]
  },
  {
   "cell_type": "code",
   "execution_count": 56,
   "id": "f6718e10-097b-474d-af5e-d5907d2b07bf",
   "metadata": {},
   "outputs": [
    {
     "data": {
      "text/plain": [
       "array([[0., 0., 0.],\n",
       "       [0., 0., 0.]])"
      ]
     },
     "execution_count": 56,
     "metadata": {},
     "output_type": "execute_result"
    }
   ],
   "source": [
    "arr - arr"
   ]
  },
  {
   "cell_type": "code",
   "execution_count": 57,
   "id": "caedfca7-c8ae-4c3c-a9d0-8f036831869b",
   "metadata": {},
   "outputs": [
    {
     "data": {
      "text/plain": [
       "array([[1.        , 0.5       , 0.33333333],\n",
       "       [0.25      , 0.2       , 0.16666667]])"
      ]
     },
     "execution_count": 57,
     "metadata": {},
     "output_type": "execute_result"
    }
   ],
   "source": [
    "1 / arr"
   ]
  },
  {
   "cell_type": "code",
   "execution_count": 58,
   "id": "c04d4da9-34f3-4751-acb8-0853d52a4454",
   "metadata": {},
   "outputs": [
    {
     "data": {
      "text/plain": [
       "array([[1.        , 1.41421356, 1.73205081],\n",
       "       [2.        , 2.23606798, 2.44948974]])"
      ]
     },
     "execution_count": 58,
     "metadata": {},
     "output_type": "execute_result"
    }
   ],
   "source": [
    "arr ** 0.5"
   ]
  },
  {
   "cell_type": "code",
   "execution_count": 60,
   "id": "04c95b8f-1f2e-4381-966b-8a4d6185a443",
   "metadata": {},
   "outputs": [],
   "source": [
    "arr2 = np.array([[0., 4., 1.], [7., 2., 12.]])"
   ]
  },
  {
   "cell_type": "code",
   "execution_count": 61,
   "id": "e30c5ca6-4801-46c5-b47a-43a5b458ab5c",
   "metadata": {},
   "outputs": [
    {
     "data": {
      "text/plain": [
       "array([[ 0.,  4.,  1.],\n",
       "       [ 7.,  2., 12.]])"
      ]
     },
     "execution_count": 61,
     "metadata": {},
     "output_type": "execute_result"
    }
   ],
   "source": [
    "arr2 "
   ]
  },
  {
   "cell_type": "code",
   "execution_count": 62,
   "id": "5916f30c-015b-47ae-99a7-263c78929092",
   "metadata": {},
   "outputs": [
    {
     "data": {
      "text/plain": [
       "array([[False,  True, False],\n",
       "       [ True, False,  True]])"
      ]
     },
     "execution_count": 62,
     "metadata": {},
     "output_type": "execute_result"
    }
   ],
   "source": [
    "arr2 > arr"
   ]
  },
  {
   "cell_type": "code",
   "execution_count": 64,
   "id": "f663d624-5a95-4073-b56e-51fb29df9a8e",
   "metadata": {},
   "outputs": [],
   "source": [
    "# 크기가 다른 배열 간의 연산은 브로드캐스팅이라고 한다."
   ]
  },
  {
   "cell_type": "markdown",
   "id": "bed8efd5-56a5-4c71-ac15-ad59dabb0e9e",
   "metadata": {},
   "source": [
    "### 색인과 슬라이싱 기초"
   ]
  },
  {
   "cell_type": "code",
   "execution_count": 68,
   "id": "bcdc2115-14aa-4ef9-8bcf-fa66084eb3f7",
   "metadata": {},
   "outputs": [],
   "source": [
    "# Numpy 배열 색인에 대해서는 다룰 주제가 많다. 데이터의 부분집합이나 개별 요소를 선택하기 위한 수많은 방법이 존재한다.  "
   ]
  },
  {
   "cell_type": "code",
   "execution_count": 69,
   "id": "12008705-8ba0-4af5-b184-bc7f5b9a81c5",
   "metadata": {},
   "outputs": [],
   "source": [
    "arr = np.arange(10)"
   ]
  },
  {
   "cell_type": "code",
   "execution_count": 70,
   "id": "09af5ee0-0534-42b5-bed1-7d65cf433cd3",
   "metadata": {},
   "outputs": [
    {
     "data": {
      "text/plain": [
       "array([0, 1, 2, 3, 4, 5, 6, 7, 8, 9])"
      ]
     },
     "execution_count": 70,
     "metadata": {},
     "output_type": "execute_result"
    }
   ],
   "source": [
    "arr"
   ]
  },
  {
   "cell_type": "code",
   "execution_count": 71,
   "id": "b28af4be-7d55-4df7-b10a-0ded71d10d87",
   "metadata": {},
   "outputs": [
    {
     "data": {
      "text/plain": [
       "5"
      ]
     },
     "execution_count": 71,
     "metadata": {},
     "output_type": "execute_result"
    }
   ],
   "source": [
    "arr[5]"
   ]
  },
  {
   "cell_type": "code",
   "execution_count": 72,
   "id": "c06515b2-f04e-4898-aa8a-8167ec54a884",
   "metadata": {},
   "outputs": [
    {
     "data": {
      "text/plain": [
       "array([5, 6, 7])"
      ]
     },
     "execution_count": 72,
     "metadata": {},
     "output_type": "execute_result"
    }
   ],
   "source": [
    "arr[5:8]"
   ]
  },
  {
   "cell_type": "code",
   "execution_count": 74,
   "id": "e12e885d-cac9-4b90-949b-27575a9a890d",
   "metadata": {},
   "outputs": [],
   "source": [
    "arr[5:8] = 12"
   ]
  },
  {
   "cell_type": "code",
   "execution_count": 75,
   "id": "2fcc6fde-a3e3-4b24-96b6-b40440b4f1cf",
   "metadata": {},
   "outputs": [
    {
     "data": {
      "text/plain": [
       "array([ 0,  1,  2,  3,  4, 12, 12, 12,  8,  9])"
      ]
     },
     "execution_count": 75,
     "metadata": {},
     "output_type": "execute_result"
    }
   ],
   "source": [
    "arr"
   ]
  },
  {
   "cell_type": "code",
   "execution_count": 77,
   "id": "216aeae4-5cd5-44a4-9151-81c6531f441d",
   "metadata": {},
   "outputs": [],
   "source": [
    "# 위에서 볼 수 있듯이 arr[5:8] = 12 처럼 배열 조각에 스칼라값을 대입하면 12가 선택 영역 전체로 전파(브로드캐스팅)된다. \n",
    "# 리스트와의 중요한 차이점은 배열 조각은 원본 배열의 뷰라는 점이다. 즉, 데이터는 복사되지 않고 뷰에 대한 변경은 그대로 원본 배열에 반영된다. "
   ]
  },
  {
   "cell_type": "code",
   "execution_count": 78,
   "id": "6f53cf8a-794c-477c-9cee-a5bf17ff4b91",
   "metadata": {},
   "outputs": [],
   "source": [
    "arr_slice = arr[5:8]"
   ]
  },
  {
   "cell_type": "code",
   "execution_count": 79,
   "id": "89f32fe9-fd0a-415e-b795-0102c2ad1381",
   "metadata": {},
   "outputs": [
    {
     "data": {
      "text/plain": [
       "array([12, 12, 12])"
      ]
     },
     "execution_count": 79,
     "metadata": {},
     "output_type": "execute_result"
    }
   ],
   "source": [
    "arr_slice"
   ]
  },
  {
   "cell_type": "code",
   "execution_count": 80,
   "id": "270e8e74-a87b-4819-b718-4c094c248b58",
   "metadata": {},
   "outputs": [],
   "source": [
    "arr_slice[1] = 12345"
   ]
  },
  {
   "cell_type": "code",
   "execution_count": 81,
   "id": "32d76e40-fec3-4b10-96f3-3c09de4e85ac",
   "metadata": {},
   "outputs": [
    {
     "data": {
      "text/plain": [
       "array([    0,     1,     2,     3,     4,    12, 12345,    12,     8,\n",
       "           9])"
      ]
     },
     "execution_count": 81,
     "metadata": {},
     "output_type": "execute_result"
    }
   ],
   "source": [
    "arr"
   ]
  },
  {
   "cell_type": "code",
   "execution_count": 82,
   "id": "c845f324-ed85-42e9-8d59-291f805cff4a",
   "metadata": {},
   "outputs": [],
   "source": [
    "arr_slice[:] = 64 "
   ]
  },
  {
   "cell_type": "code",
   "execution_count": 83,
   "id": "3dd62d1f-c8f2-405d-9fa2-235eda26caf6",
   "metadata": {},
   "outputs": [
    {
     "data": {
      "text/plain": [
       "array([ 0,  1,  2,  3,  4, 64, 64, 64,  8,  9])"
      ]
     },
     "execution_count": 83,
     "metadata": {},
     "output_type": "execute_result"
    }
   ],
   "source": [
    "arr"
   ]
  },
  {
   "cell_type": "code",
   "execution_count": null,
   "id": "67a27483-3754-4707-99de-81e57d354700",
   "metadata": {},
   "outputs": [],
   "source": []
  },
  {
   "cell_type": "code",
   "execution_count": null,
   "id": "7df2568c-feba-4643-bf20-32397da69e24",
   "metadata": {},
   "outputs": [],
   "source": []
  },
  {
   "cell_type": "code",
   "execution_count": null,
   "id": "fc96b91b-24ea-48ec-bc30-8cbf6e61cf7e",
   "metadata": {},
   "outputs": [],
   "source": []
  }
 ],
 "metadata": {
  "kernelspec": {
   "display_name": "Python 3 (ipykernel)",
   "language": "python",
   "name": "python3"
  },
  "language_info": {
   "codemirror_mode": {
    "name": "ipython",
    "version": 3
   },
   "file_extension": ".py",
   "mimetype": "text/x-python",
   "name": "python",
   "nbconvert_exporter": "python",
   "pygments_lexer": "ipython3",
   "version": "3.9.12"
  }
 },
 "nbformat": 4,
 "nbformat_minor": 5
}
