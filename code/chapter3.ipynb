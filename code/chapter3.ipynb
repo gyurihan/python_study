{
 "cells": [
  {
   "cell_type": "code",
   "execution_count": 1,
   "id": "299940d6-becc-4835-b542-5600b8d45007",
   "metadata": {},
   "outputs": [],
   "source": [
    "#Chapter3. 내장 자료구조, 함수, 파일"
   ]
  },
  {
   "cell_type": "code",
   "execution_count": 2,
   "id": "bd4d3bc7-2ecc-4ac7-a752-922ff454d288",
   "metadata": {},
   "outputs": [],
   "source": [
    "# 1. 자료 구조 : 튜플, 리스트, 사전, 집합 공통점 vs. 차이점 중심"
   ]
  },
  {
   "cell_type": "code",
   "execution_count": 3,
   "id": "71916660-52b8-4171-a8c6-4e6587bde5e1",
   "metadata": {},
   "outputs": [
    {
     "ename": "SyntaxError",
     "evalue": "invalid syntax (3305922985.py, line 1)",
     "output_type": "error",
     "traceback": [
      "\u001b[1;36m  Input \u001b[1;32mIn [3]\u001b[1;36m\u001b[0m\n\u001b[1;33m    3 (1) 튜플 : 1차원의 고정된 크기를 갖는 변경 불가능한 순차 자료형이다. 튜플 생성하는 가장 쉬운 방법은 쉼표로 구분된 값을 대입한다.\u001b[0m\n\u001b[1;37m          ^\u001b[0m\n\u001b[1;31mSyntaxError\u001b[0m\u001b[1;31m:\u001b[0m invalid syntax\n"
     ]
    }
   ],
   "source": [
    "# 1-1 튜플 : 1차원의 고정된 크기를 갖는 변경 불가능한 순차 자료형이다. 튜플 생성하는 가장 쉬운 방법은 쉼표로 구분된 값을 대입한다. "
   ]
  },
  {
   "cell_type": "code",
   "execution_count": 4,
   "id": "06a81127-7c91-4c3a-a771-9ac746c45a93",
   "metadata": {},
   "outputs": [],
   "source": [
    "tup = 4, 5, 6"
   ]
  },
  {
   "cell_type": "code",
   "execution_count": 5,
   "id": "30d441a3-bddc-4f88-9e3e-c7b3abeb23d3",
   "metadata": {},
   "outputs": [
    {
     "data": {
      "text/plain": [
       "(4, 5, 6)"
      ]
     },
     "execution_count": 5,
     "metadata": {},
     "output_type": "execute_result"
    }
   ],
   "source": [
    "tup"
   ]
  },
  {
   "cell_type": "code",
   "execution_count": 6,
   "id": "344c9688-71c4-42e0-bcc4-1944d9df3b0c",
   "metadata": {},
   "outputs": [
    {
     "data": {
      "text/plain": [
       "(4, 0, 2)"
      ]
     },
     "execution_count": 6,
     "metadata": {},
     "output_type": "execute_result"
    }
   ],
   "source": [
    "tuple([4, 0, 2])"
   ]
  },
  {
   "cell_type": "code",
   "execution_count": 7,
   "id": "e2b3a5bb-87b1-4e2f-92c6-b09f64a26c10",
   "metadata": {},
   "outputs": [],
   "source": [
    "tup = tuple('string')"
   ]
  },
  {
   "cell_type": "code",
   "execution_count": 8,
   "id": "3a9e49e0-d1cc-4216-bb79-feebb00fdaab",
   "metadata": {},
   "outputs": [
    {
     "data": {
      "text/plain": [
       "('s', 't', 'r', 'i', 'n', 'g')"
      ]
     },
     "execution_count": 8,
     "metadata": {},
     "output_type": "execute_result"
    }
   ],
   "source": [
    "tup"
   ]
  },
  {
   "cell_type": "code",
   "execution_count": 11,
   "id": "3272eccc-f585-4182-a73c-06ebd65fc257",
   "metadata": {},
   "outputs": [
    {
     "data": {
      "text/plain": [
       "'s'"
      ]
     },
     "execution_count": 11,
     "metadata": {},
     "output_type": "execute_result"
    }
   ],
   "source": [
    "tup[0] #[ ] 를 통해 순차 자료형처럼 접근할 수 있다. 순차 자료형의 색인은 0부터 시작한다."
   ]
  },
  {
   "cell_type": "code",
   "execution_count": 12,
   "id": "4fb51a3b-20c8-4a53-a331-924b4f4a9353",
   "metadata": {},
   "outputs": [],
   "source": [
    "# 튜플에서 값 분리하기\n",
    "tup = (4, 5, 6)\n",
    "a, b, c = tup"
   ]
  },
  {
   "cell_type": "code",
   "execution_count": 13,
   "id": "c225ef76-ad6c-43da-89cd-16a48161738f",
   "metadata": {},
   "outputs": [
    {
     "data": {
      "text/plain": [
       "5"
      ]
     },
     "execution_count": 13,
     "metadata": {},
     "output_type": "execute_result"
    }
   ],
   "source": [
    "b"
   ]
  },
  {
   "cell_type": "code",
   "execution_count": 14,
   "id": "68576e00-041c-4c40-91de-06a96f7965b2",
   "metadata": {},
   "outputs": [
    {
     "data": {
      "text/plain": [
       "('foo', [1, 2, 3], True)"
      ]
     },
     "execution_count": 14,
     "metadata": {},
     "output_type": "execute_result"
    }
   ],
   "source": [
    "tup = tuple(['foo', [1, 2], True])\n",
    "tup[1].append(3)\n",
    "tup"
   ]
  },
  {
   "cell_type": "code",
   "execution_count": 35,
   "id": "b750c065-c4ef-46ba-96ed-6096205a6e74",
   "metadata": {},
   "outputs": [],
   "source": [
    "# 튜플의 특징 : 1. 튜플에 저장된 객체 자체는 변경이 가능하지만, 한 번 생성되면 각 슬롯에 저장된 객체를 변경하는 것은 불가능하다. "
   ]
  },
  {
   "cell_type": "code",
   "execution_count": 16,
   "id": "eea597d3-5118-42c3-ac54-791e66848470",
   "metadata": {},
   "outputs": [],
   "source": [
    "# + 연산자와 정수를 곱하면 튜플의 복사본이 늘어난다. 단, 객체는 복사되지 않고 그 객체에 대한 참조만 복사된다. "
   ]
  },
  {
   "cell_type": "code",
   "execution_count": 17,
   "id": "5a69561c-5610-4520-b4cb-0723256ee943",
   "metadata": {},
   "outputs": [],
   "source": [
    "seq = [(1, 2, 3), (4, 5, 6), (7, 8, 9)]"
   ]
  },
  {
   "cell_type": "code",
   "execution_count": 18,
   "id": "0e36f086-fa00-4ee5-b55d-576648b00ca6",
   "metadata": {},
   "outputs": [
    {
     "name": "stdout",
     "output_type": "stream",
     "text": [
      "a=1, b=2, c=3\n",
      "a=4, b=5, c=6\n",
      "a=7, b=8, c=9\n"
     ]
    }
   ],
   "source": [
    "for a, b, c in seq:\n",
    "    print('a={0}, b={1}, c={2}'.format(a, b, c))"
   ]
  },
  {
   "cell_type": "code",
   "execution_count": 19,
   "id": "ad2e1018-7e49-4f67-b860-dd954853e346",
   "metadata": {},
   "outputs": [
    {
     "data": {
      "text/plain": [
       "(1, 2)"
      ]
     },
     "execution_count": 19,
     "metadata": {},
     "output_type": "execute_result"
    }
   ],
   "source": [
    "values = 1, 2, 3, 4, 5\n",
    "a, b, *rest = values\n",
    "a, b"
   ]
  },
  {
   "cell_type": "code",
   "execution_count": 20,
   "id": "4c5987a2-262c-4ac3-bc23-51a2d0d2ed06",
   "metadata": {},
   "outputs": [
    {
     "data": {
      "text/plain": [
       "[3, 4, 5]"
      ]
     },
     "execution_count": 20,
     "metadata": {},
     "output_type": "execute_result"
    }
   ],
   "source": [
    "rest"
   ]
  },
  {
   "cell_type": "code",
   "execution_count": 23,
   "id": "f79f0ddf-7a94-46d1-857d-9b4e2fbda63d",
   "metadata": {},
   "outputs": [
    {
     "data": {
      "text/plain": [
       "(1, 2, 3, 4, 5)"
      ]
     },
     "execution_count": 23,
     "metadata": {},
     "output_type": "execute_result"
    }
   ],
   "source": [
    "a, b, *_ "
   ]
  },
  {
   "cell_type": "code",
   "execution_count": 24,
   "id": "6cdabc6f-a436-46ad-87f0-7fbc8b5e10bf",
   "metadata": {},
   "outputs": [],
   "source": [
    "# *rest 또는 *_를 활용하여 여러 개의 값을 반환할 때 사용된다. "
   ]
  },
  {
   "cell_type": "code",
   "execution_count": 25,
   "id": "2bd38606-1966-42f1-97ef-a83bc2b47eae",
   "metadata": {},
   "outputs": [],
   "source": [
    "# 튜플의 크기와 내용은 변경 불가능하므로 인스턴스 메서드가 많지 않다. 유용하게 사용되는 메서드 중 하나는 count 메서드다 (리스트도 사용가능)"
   ]
  },
  {
   "cell_type": "code",
   "execution_count": 26,
   "id": "6d92ca11-6cf6-4b06-9730-ce8e169b1733",
   "metadata": {},
   "outputs": [],
   "source": [
    "a = (1, 2, 2, 2, 3, 4, 2)"
   ]
  },
  {
   "cell_type": "code",
   "execution_count": 27,
   "id": "8e5c9522-aad2-4c6b-9fc9-7a9946bf6377",
   "metadata": {},
   "outputs": [
    {
     "data": {
      "text/plain": [
       "4"
      ]
     },
     "execution_count": 27,
     "metadata": {},
     "output_type": "execute_result"
    }
   ],
   "source": [
    "a.count(2)"
   ]
  },
  {
   "cell_type": "code",
   "execution_count": 28,
   "id": "42b1f717-117d-44d9-a01e-97c040cf496e",
   "metadata": {},
   "outputs": [],
   "source": [
    "# 1-2 리스트 : 튜플과 대조적으로 크기나 내용의 변경이 가능하다. 리스트는 대괄호 []나 list 함수를 사용해서 생성할 수 있다. "
   ]
  },
  {
   "cell_type": "code",
   "execution_count": 29,
   "id": "82f94cd5-ac3b-48ba-be19-43e798ac0593",
   "metadata": {},
   "outputs": [],
   "source": [
    "a_list = [2, 3, 7, None]"
   ]
  },
  {
   "cell_type": "code",
   "execution_count": 57,
   "id": "58b4294b-4855-492a-8d15-a8b5610650b5",
   "metadata": {},
   "outputs": [],
   "source": [
    "tup = ('foo', 'bar', 'baz')"
   ]
  },
  {
   "cell_type": "code",
   "execution_count": 31,
   "id": "490c94d5-4219-4e82-8f60-f9195ba10354",
   "metadata": {},
   "outputs": [],
   "source": [
    "b_list = list(tup)"
   ]
  },
  {
   "cell_type": "code",
   "execution_count": 32,
   "id": "1fb22c9c-4df4-4602-8333-4c6ee981dcf2",
   "metadata": {},
   "outputs": [
    {
     "data": {
      "text/plain": [
       "['foo', 'bar', 'baz']"
      ]
     },
     "execution_count": 32,
     "metadata": {},
     "output_type": "execute_result"
    }
   ],
   "source": [
    "b_list"
   ]
  },
  {
   "cell_type": "code",
   "execution_count": 33,
   "id": "97776c16-6f19-4a22-a988-93f1c48ad7fe",
   "metadata": {},
   "outputs": [],
   "source": [
    "b_list[1] = 'peekaboo'"
   ]
  },
  {
   "cell_type": "code",
   "execution_count": 50,
   "id": "7cb10f87-5214-4bde-b3ac-1ad16adcf8c6",
   "metadata": {},
   "outputs": [
    {
     "data": {
      "text/plain": [
       "['foo', 'red', 'dwarf']"
      ]
     },
     "execution_count": 50,
     "metadata": {},
     "output_type": "execute_result"
    }
   ],
   "source": [
    "b_list"
   ]
  },
  {
   "cell_type": "code",
   "execution_count": 36,
   "id": "6f3b3912-bbf8-4c12-b732-04e9f5c57002",
   "metadata": {},
   "outputs": [
    {
     "data": {
      "text/plain": [
       "range(0, 10)"
      ]
     },
     "execution_count": 36,
     "metadata": {},
     "output_type": "execute_result"
    }
   ],
   "source": [
    "gen = range(10)\n",
    "gen"
   ]
  },
  {
   "cell_type": "code",
   "execution_count": 37,
   "id": "c4dec951-048c-4591-98dd-b8d609e98d32",
   "metadata": {},
   "outputs": [
    {
     "data": {
      "text/plain": [
       "[0, 1, 2, 3, 4, 5, 6, 7, 8, 9]"
      ]
     },
     "execution_count": 37,
     "metadata": {},
     "output_type": "execute_result"
    }
   ],
   "source": [
    "list(gen)"
   ]
  },
  {
   "cell_type": "code",
   "execution_count": 38,
   "id": "66b01e84-45fa-461b-b226-90b9f5ebda28",
   "metadata": {},
   "outputs": [],
   "source": [
    "# list 함수는 실제 값을 모두 담기 위한 용도로 자주 사용된다. "
   ]
  },
  {
   "cell_type": "code",
   "execution_count": 58,
   "id": "72356001-7ba1-4cf1-a16c-438048d71a3f",
   "metadata": {},
   "outputs": [],
   "source": [
    "b_list.append('baz') #append 메서드를 사용해서 리스트의 끝에 새로운 값을 추가할 수 있다. "
   ]
  },
  {
   "cell_type": "code",
   "execution_count": 53,
   "id": "7e2bdfd4-ac29-482d-92a0-e04bc5597e9a",
   "metadata": {},
   "outputs": [],
   "source": [
    "b_list.insert(1, 'red') #inert 메서드를 사용해 리스트의 특정 위치에 값을 추가할 수 있다. "
   ]
  },
  {
   "cell_type": "code",
   "execution_count": 44,
   "id": "4d0cc0d4-3e11-4f93-96ea-fa05e952d148",
   "metadata": {},
   "outputs": [],
   "source": [
    "# 리스트와 튜플의 가장 큰 차이점은 값을 변경할 수 있는가의 여부이므로, 프로그램이 실행 되는 동안 그 값이 변경되면 안 되는 경우에는 튜플을 사용하면 된다. 또한 튜플은 리스트에 비해 더 적은 메모리를 필요로 하고, 속도가 빠르다는 장점이 있다."
   ]
  },
  {
   "cell_type": "code",
   "execution_count": 61,
   "id": "1db963e2-0300-4bd7-a8e6-c77b29818299",
   "metadata": {},
   "outputs": [
    {
     "data": {
      "text/plain": [
       "'dwarf'"
      ]
     },
     "execution_count": 61,
     "metadata": {},
     "output_type": "execute_result"
    }
   ],
   "source": [
    "b_list.pop(2) # insert 메서드와 반대 개념인 pop 메서드는 특정 위치의 값을 반환하고 해당 값을 리스트에서 삭제한다. "
   ]
  },
  {
   "cell_type": "code",
   "execution_count": 62,
   "id": "42d0cd6e-9e3b-4803-a7f0-18cf7bf9a41b",
   "metadata": {},
   "outputs": [
    {
     "data": {
      "text/plain": [
       "['foo', 'red', 'baz']"
      ]
     },
     "execution_count": 62,
     "metadata": {},
     "output_type": "execute_result"
    }
   ],
   "source": [
    "b_list"
   ]
  },
  {
   "cell_type": "code",
   "execution_count": 63,
   "id": "ad91a7fb-11df-4f31-97fd-a112cbbf772a",
   "metadata": {},
   "outputs": [],
   "source": [
    "b_list.append('foo')"
   ]
  },
  {
   "cell_type": "code",
   "execution_count": 65,
   "id": "ecfc060f-02be-495b-84b8-6c0796d8bf62",
   "metadata": {},
   "outputs": [
    {
     "data": {
      "text/plain": [
       "['foo', 'red', 'baz', 'foo']"
      ]
     },
     "execution_count": 65,
     "metadata": {},
     "output_type": "execute_result"
    }
   ],
   "source": [
    "b_list"
   ]
  },
  {
   "cell_type": "code",
   "execution_count": 66,
   "id": "a22ee05e-7516-4f6f-b832-81cdf07f957b",
   "metadata": {},
   "outputs": [],
   "source": [
    "b_list.append('dwarf')"
   ]
  },
  {
   "cell_type": "code",
   "execution_count": 67,
   "id": "d76d8d29-0145-4fd2-88b8-d3b31051def4",
   "metadata": {},
   "outputs": [
    {
     "data": {
      "text/plain": [
       "'foo'"
      ]
     },
     "execution_count": 67,
     "metadata": {},
     "output_type": "execute_result"
    }
   ],
   "source": [
    "b_list.pop(3)"
   ]
  },
  {
   "cell_type": "code",
   "execution_count": 68,
   "id": "968bbe9e-d349-45c7-91a5-18fa3e6ec098",
   "metadata": {},
   "outputs": [
    {
     "data": {
      "text/plain": [
       "['foo', 'red', 'baz', 'dwarf']"
      ]
     },
     "execution_count": 68,
     "metadata": {},
     "output_type": "execute_result"
    }
   ],
   "source": [
    "b_list"
   ]
  },
  {
   "cell_type": "code",
   "execution_count": 69,
   "id": "ede3d3fc-dc2d-420a-bcbb-284d0d5f5b10",
   "metadata": {},
   "outputs": [],
   "source": [
    "b_list.append('foo')"
   ]
  },
  {
   "cell_type": "code",
   "execution_count": 70,
   "id": "a5a16663-c95c-47cb-922b-f61ef5255e2a",
   "metadata": {},
   "outputs": [],
   "source": [
    "b_list.remove('foo') # remove 메서드를 이용해서 원소를 삭제할 수 있는데, 삭제는 리스트에서 제일 앞에 위치한 값부터 시작된다."
   ]
  },
  {
   "cell_type": "code",
   "execution_count": 71,
   "id": "d2019938-f52e-4bec-a3b4-700a6a670e4a",
   "metadata": {},
   "outputs": [
    {
     "data": {
      "text/plain": [
       "True"
      ]
     },
     "execution_count": 71,
     "metadata": {},
     "output_type": "execute_result"
    }
   ],
   "source": [
    "'dwarf' in b_list #in 예약어를 이용해서 리스트에 어떤 값이 있는지 확인할 수 있다. "
   ]
  },
  {
   "cell_type": "code",
   "execution_count": 72,
   "id": "f9e7ed2f-20b8-471f-abf4-2e64535e6423",
   "metadata": {},
   "outputs": [
    {
     "data": {
      "text/plain": [
       "False"
      ]
     },
     "execution_count": 72,
     "metadata": {},
     "output_type": "execute_result"
    }
   ],
   "source": [
    "'dwarf' not in b_list"
   ]
  },
  {
   "cell_type": "code",
   "execution_count": 73,
   "id": "5ac9ab3f-86a8-48dd-ba89-b1523de4fbc5",
   "metadata": {},
   "outputs": [],
   "source": [
    "#리스트에 어떤 값이 있는지 검사하기 위해서는 리스트의 모든 값을 일일이 검사해야 하므로 많이 느리다. "
   ]
  },
  {
   "cell_type": "code",
   "execution_count": 75,
   "id": "009ad685-4a65-43ff-9524-361cd946af02",
   "metadata": {},
   "outputs": [],
   "source": [
    "# 리스트와 튜플의 가장 큰 차이점은 값을 변경할 수 있는가의 여부이므로, 프로그램이 실행 되는 동안 그 값이 변경되면 안 되는 경우에는 튜플을 사용하면 된다. 또한 튜플은 리스트에 비해 더 적은 메모리를 필요로 하고, 속도가 빠르다는 장점이 있다."
   ]
  },
  {
   "cell_type": "code",
   "execution_count": 76,
   "id": "9758c66c-2e05-4e04-888b-9556c07fdc97",
   "metadata": {},
   "outputs": [],
   "source": [
    "# 리스트 이어 붙이기 방법으로 + 연산자를 이용해 합칠 수 있지만, 연산 비용이 높기 대문에 extend 메서드를 이용해서 기존 값을 추가하는 것이 일반적으로 나은 선택이다."
   ]
  },
  {
   "cell_type": "code",
   "execution_count": 5,
   "id": "90b680fd-cabe-403d-afe7-342cab7b02bd",
   "metadata": {},
   "outputs": [],
   "source": [
    "# 리스트는 mutable, 튜플은 immutable 객체이다. "
   ]
  },
  {
   "cell_type": "code",
   "execution_count": 1,
   "id": "7905db53-7427-41a1-abf4-c4b74ee18449",
   "metadata": {},
   "outputs": [],
   "source": [
    "# 1-3 슬라이싱 : 리스트와 같은 자료형은 색인 연산자[] 안에 start:stop을 지정해서 원하는 크기만큼 잘라낼 수 있다. "
   ]
  },
  {
   "cell_type": "code",
   "execution_count": 3,
   "id": "960825b8-06c0-4497-82a5-81c61c1bb9cc",
   "metadata": {},
   "outputs": [],
   "source": [
    "seq = [7, 2, 3, 7, 5, 6, 0, 1]\n",
    "seq[3:4] = [6, 3]"
   ]
  },
  {
   "cell_type": "code",
   "execution_count": 4,
   "id": "9f525502-64aa-4c4c-a220-3073c529f4bf",
   "metadata": {},
   "outputs": [
    {
     "data": {
      "text/plain": [
       "[7, 2, 3, 6, 3, 5, 6, 0, 1]"
      ]
     },
     "execution_count": 4,
     "metadata": {},
     "output_type": "execute_result"
    }
   ],
   "source": [
    "seq"
   ]
  },
  {
   "cell_type": "code",
   "execution_count": 5,
   "id": "945c3115-4572-414b-a9fb-0f8b8667bca2",
   "metadata": {},
   "outputs": [
    {
     "data": {
      "text/plain": [
       "[7, 2, 3, 6, 3]"
      ]
     },
     "execution_count": 5,
     "metadata": {},
     "output_type": "execute_result"
    }
   ],
   "source": [
    "seq[:5]"
   ]
  },
  {
   "cell_type": "code",
   "execution_count": 6,
   "id": "6defa802-9571-4ce9-a448-6833d9f1791f",
   "metadata": {},
   "outputs": [
    {
     "data": {
      "text/plain": [
       "[6, 3, 5, 6, 0, 1]"
      ]
     },
     "execution_count": 6,
     "metadata": {},
     "output_type": "execute_result"
    }
   ],
   "source": [
    "seq[3:]"
   ]
  },
  {
   "cell_type": "code",
   "execution_count": 7,
   "id": "e1561244-3d8e-4372-b977-02f464557e89",
   "metadata": {},
   "outputs": [
    {
     "data": {
      "text/plain": [
       "[5, 6, 0, 1]"
      ]
     },
     "execution_count": 7,
     "metadata": {},
     "output_type": "execute_result"
    }
   ],
   "source": [
    "seq[-4:]"
   ]
  },
  {
   "cell_type": "code",
   "execution_count": 8,
   "id": "2891e8da-e761-499e-843e-b9cd8f7a8450",
   "metadata": {},
   "outputs": [
    {
     "data": {
      "text/plain": [
       "[6, 3, 5, 6]"
      ]
     },
     "execution_count": 8,
     "metadata": {},
     "output_type": "execute_result"
    }
   ],
   "source": [
    "seq[-6:-2]"
   ]
  },
  {
   "cell_type": "code",
   "execution_count": 9,
   "id": "7214d730-2e3c-40c0-8eae-7ab6524ad1cd",
   "metadata": {},
   "outputs": [
    {
     "data": {
      "text/plain": [
       "[7, 3, 3, 6, 1]"
      ]
     },
     "execution_count": 9,
     "metadata": {},
     "output_type": "execute_result"
    }
   ],
   "source": [
    "seq[::2]"
   ]
  },
  {
   "cell_type": "code",
   "execution_count": 10,
   "id": "4f0e9b57-c5e7-4df9-acd8-c83a94467f07",
   "metadata": {},
   "outputs": [
    {
     "data": {
      "text/plain": [
       "[1, 0, 6, 5, 3, 6, 3, 2, 7]"
      ]
     },
     "execution_count": 10,
     "metadata": {},
     "output_type": "execute_result"
    }
   ],
   "source": [
    "seq[::-1]"
   ]
  },
  {
   "cell_type": "code",
   "execution_count": 11,
   "id": "8a27df79-8751-40ca-9699-dcbfe6418f48",
   "metadata": {},
   "outputs": [],
   "source": [
    "# 1-4. 내장 순차 자료형 함수 : 매우 유용한 함수가 있어서 이 함수들은 꼭 익혀서 기회가 될 때마다 사용할 수 있어야함!"
   ]
  },
  {
   "cell_type": "code",
   "execution_count": 12,
   "id": "fa9da509-adff-4459-b5fc-626ab1197969",
   "metadata": {},
   "outputs": [
    {
     "ename": "NameError",
     "evalue": "name 'collection' is not defined",
     "output_type": "error",
     "traceback": [
      "\u001b[1;31m---------------------------------------------------------------------------\u001b[0m",
      "\u001b[1;31mNameError\u001b[0m                                 Traceback (most recent call last)",
      "Input \u001b[1;32mIn [12]\u001b[0m, in \u001b[0;36m<cell line: 3>\u001b[1;34m()\u001b[0m\n\u001b[0;32m      1\u001b[0m \u001b[38;5;66;03m# enumerate \u001b[39;00m\n\u001b[0;32m      2\u001b[0m i \u001b[38;5;241m=\u001b[39m \u001b[38;5;241m0\u001b[39m\n\u001b[1;32m----> 3\u001b[0m \u001b[38;5;28;01mfor\u001b[39;00m value \u001b[38;5;129;01min\u001b[39;00m \u001b[43mcollection\u001b[49m:\n\u001b[0;32m      4\u001b[0m     \u001b[38;5;66;03m# value를 사용하는 코드 작성\u001b[39;00m\n\u001b[0;32m      5\u001b[0m     i \u001b[38;5;241m+\u001b[39m\u001b[38;5;241m=\u001b[39m \u001b[38;5;241m1\u001b[39m\n",
      "\u001b[1;31mNameError\u001b[0m: name 'collection' is not defined"
     ]
    }
   ],
   "source": [
    "# enumerate \n",
    "i = 0\n",
    "for value in collection:\n",
    "    # value를 사용하는 코드 작성\n",
    "    i += 1"
   ]
  },
  {
   "cell_type": "code",
   "execution_count": 13,
   "id": "4d29cec9-875e-4a26-ac08-8fb2c842e352",
   "metadata": {},
   "outputs": [
    {
     "ename": "SyntaxError",
     "evalue": "invalid syntax (3512920519.py, line 1)",
     "output_type": "error",
     "traceback": [
      "\u001b[1;36m  Input \u001b[1;32mIn [13]\u001b[1;36m\u001b[0m\n\u001b[1;33m    for i, value in enumerate(collection)\u001b[0m\n\u001b[1;37m                                         ^\u001b[0m\n\u001b[1;31mSyntaxError\u001b[0m\u001b[1;31m:\u001b[0m invalid syntax\n"
     ]
    }
   ],
   "source": [
    "for i, value in enumerate(collection)"
   ]
  },
  {
   "cell_type": "code",
   "execution_count": 15,
   "id": "68e6fbda-dad9-43fb-abd5-d73ad7a47217",
   "metadata": {},
   "outputs": [],
   "source": [
    "some_list = ['foo', 'bar', 'baz']\n",
    "mapping = {}\n",
    "for i, v in enumerate(some_list):\n",
    "     mapping[v] = i"
   ]
  },
  {
   "cell_type": "code",
   "execution_count": 16,
   "id": "47f96be4-88ee-4490-9324-86d18868e082",
   "metadata": {},
   "outputs": [
    {
     "data": {
      "text/plain": [
       "{'foo': 0, 'bar': 1, 'baz': 2}"
      ]
     },
     "execution_count": 16,
     "metadata": {},
     "output_type": "execute_result"
    }
   ],
   "source": [
    "mapping"
   ]
  },
  {
   "cell_type": "code",
   "execution_count": 18,
   "id": "629ef593-681f-4449-b519-fa61c227da93",
   "metadata": {},
   "outputs": [],
   "source": [
    "some_list = ['a', 'b', 'c']\n",
    "mapping = {}\n",
    "for i, v in enumerate(some_list):\n",
    "    mapping[v] = i"
   ]
  },
  {
   "cell_type": "code",
   "execution_count": 19,
   "id": "37c2dbf7-df7d-413a-b4fc-54b1e713c9ab",
   "metadata": {},
   "outputs": [
    {
     "data": {
      "text/plain": [
       "{'a': 0, 'b': 1, 'c': 2}"
      ]
     },
     "execution_count": 19,
     "metadata": {},
     "output_type": "execute_result"
    }
   ],
   "source": [
    "mapping"
   ]
  },
  {
   "cell_type": "code",
   "execution_count": 20,
   "id": "a0a40cf0-c263-4e3f-826d-059390f356ab",
   "metadata": {},
   "outputs": [
    {
     "data": {
      "text/plain": [
       "[0, 1, 2, 2, 3, 6, 7]"
      ]
     },
     "execution_count": 20,
     "metadata": {},
     "output_type": "execute_result"
    }
   ],
   "source": [
    "sorted([7, 1, 2, 6, 0, 3, 2])"
   ]
  },
  {
   "cell_type": "code",
   "execution_count": 21,
   "id": "2aaacd11-9f61-4e49-a278-852e40a80945",
   "metadata": {},
   "outputs": [
    {
     "data": {
      "text/plain": [
       "[' ', 'a', 'c', 'e', 'e', 'h', 'o', 'r', 'r', 's']"
      ]
     },
     "execution_count": 21,
     "metadata": {},
     "output_type": "execute_result"
    }
   ],
   "source": [
    "sorted('horse race')"
   ]
  },
  {
   "cell_type": "code",
   "execution_count": 23,
   "id": "4310052b-63d8-4697-9f9e-4709f9985d4b",
   "metadata": {},
   "outputs": [
    {
     "data": {
      "text/plain": [
       "[('foo', 'one'), ('bar', 'two'), ('baz', 'three')]"
      ]
     },
     "execution_count": 23,
     "metadata": {},
     "output_type": "execute_result"
    }
   ],
   "source": [
    "#zip\n",
    "seq1 = ['foo', 'bar', 'baz']\n",
    "seq2 = ['one', 'two', 'three']\n",
    "zipped = zip(seq1, seq2)\n",
    "list(zipped)"
   ]
  },
  {
   "cell_type": "code",
   "execution_count": 24,
   "id": "84e21162-5e9c-4d4c-b152-bb3c98b5853b",
   "metadata": {},
   "outputs": [],
   "source": [
    "#zip 함수는 여러 개의 순차 자료형을 받을 수 있으며 변환되는 리스트의 크기는 넘겨받은 순차 자료형 중 가장 짧은 크기로 정해진다. "
   ]
  },
  {
   "cell_type": "code",
   "execution_count": 25,
   "id": "7ac6a971-c11d-4eee-aefe-d20bfa97ff32",
   "metadata": {},
   "outputs": [
    {
     "data": {
      "text/plain": [
       "[('foo', 'one', False), ('bar', 'two', True)]"
      ]
     },
     "execution_count": 25,
     "metadata": {},
     "output_type": "execute_result"
    }
   ],
   "source": [
    "seq3 = [False, True]\n",
    "list(zip(seq1, seq2, seq3))"
   ]
  },
  {
   "cell_type": "code",
   "execution_count": null,
   "id": "ba19dffe-b03f-47f8-89e8-643127d9c85f",
   "metadata": {},
   "outputs": [],
   "source": [
    "#zip 함수의 아주 흔한 사용 예로 여러 개의 순차 자료형을 동시에 순회하는 경우에 enumerate 와 함께 사용되기도 한다. \n",
    "for i, (a, b) in enumerate(zip(seq1, seq2)):\n",
    "    print('{0}: {1}, {2}'.format(i, a, b))"
   ]
  }
 ],
 "metadata": {
  "kernelspec": {
   "display_name": "Python 3 (ipykernel)",
   "language": "python",
   "name": "python3"
  },
  "language_info": {
   "codemirror_mode": {
    "name": "ipython",
    "version": 3
   },
   "file_extension": ".py",
   "mimetype": "text/x-python",
   "name": "python",
   "nbconvert_exporter": "python",
   "pygments_lexer": "ipython3",
   "version": "3.9.12"
  }
 },
 "nbformat": 4,
 "nbformat_minor": 5
}
